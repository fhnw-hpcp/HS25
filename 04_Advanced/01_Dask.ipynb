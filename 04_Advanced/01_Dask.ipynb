{
 "cells": [
  {
   "cell_type": "markdown",
   "id": "ade4f13a-d45f-482d-bb20-d025f2445087",
   "metadata": {},
   "source": [
    "# Dask for HPC: Parallel Computing with Dask on a Slurm Cluster\n",
    "\n",
    "In this notebook, we will learn how to use Dask to scale up Python computations from a single machine to a multi-node Slurm cluster. We will start with a brief introduction to Dask and how to perform NumPy-like operations in parallel using Dask Arrays. Then, we'll explore how to launch and use a Dask distributed cluster on an HPC system with Slurm. Finally, we will look at using GPU accelerators with Dask (via CuPy) to further speed up computations. Throughout the tutorial, you'll find tasks/exercises to practice the concepts. By the end, you should understand how to harness Dask for large-scale parallel computing on an HPC cluster."
   ]
  },
  {
   "cell_type": "markdown",
   "id": "8d350a7b-126b-40ad-abb8-bb776b93c2fc",
   "metadata": {},
   "source": [
    "![Dask Slide](img/HPCP_Dask/Folie1.PNG)\n",
    "![Dask Slide](img/HPCP_Dask/Folie2.PNG)\n",
    "![Dask Slide](img/HPCP_Dask/Folie3.PNG)\n",
    "![Dask Slide](img/HPCP_Dask/Folie4.PNG)"
   ]
  },
  {
   "cell_type": "markdown",
   "id": "eafe3934-643a-4e73-ac04-e5e8d159bec1",
   "metadata": {},
   "source": [
    "### Dask Basics: Parallelizing NumPy Operations with Dask Arrays\n",
    "\n",
    "We begin with Dask's high-level Array API, which parallels NumPy. A Dask Array is composed of many small NumPy arrays (or possibly CuPy arrays, etc.) called chunks. These chunks can be processed in parallel, and Dask handles the coordination. The API for Dask Arrays is very similar to NumPy, which makes it easy to get started.\n",
    "\n",
    "We will create some arrays using NumPy and Dask and see the difference:"
   ]
  },
  {
   "cell_type": "code",
   "execution_count": 8,
   "id": "3cd780e1-234b-41ee-a71c-463c2402802d",
   "metadata": {},
   "outputs": [],
   "source": [
    "import os\n",
    "import socket\n",
    "import math\n",
    "import random\n",
    "from time import sleep\n",
    "\n",
    "import dask\n",
    "import dask.array as da\n",
    "import dask.dataframe as dd\n",
    "from dask_jobqueue import SLURMCluster\n",
    "from dask.distributed import Client, LocalCluster\n",
    "import numpy as np\n",
    "import numba\n",
    "import h5py\n",
    "\n",
    "try:\n",
    "    user_port = int(os.environ[\"USER\"][-2:])\n",
    "except ValueError:\n",
    "    user_port = 55"
   ]
  },
  {
   "cell_type": "code",
   "execution_count": 3,
   "id": "14b0652c-45e1-44da-aad2-82b52c0f9f08",
   "metadata": {},
   "outputs": [
    {
     "data": {
      "text/plain": [
       "np.float64(0.49985239739667875)"
      ]
     },
     "execution_count": 3,
     "metadata": {},
     "output_type": "execute_result"
    }
   ],
   "source": [
    "# Create a large NumPy array and compute its mean\n",
    "N = 10_000_000\n",
    "np_array = np.random.random(N)\n",
    "mean = np_array.mean()\n",
    "mean"
   ]
  },
  {
   "cell_type": "code",
   "execution_count": 4,
   "id": "59671d78-9905-4ef2-8214-796d3051c68a",
   "metadata": {},
   "outputs": [
    {
     "name": "stdout",
     "output_type": "stream",
     "text": [
      "8.18 ms ± 30.3 μs per loop (mean ± std. dev. of 7 runs, 100 loops each)\n"
     ]
    }
   ],
   "source": [
    "%timeit np_array.mean()"
   ]
  },
  {
   "cell_type": "code",
   "execution_count": 5,
   "id": "2f408b45-03ed-4fb0-afd3-e2d7bf7f9b9b",
   "metadata": {},
   "outputs": [
    {
     "name": "stdout",
     "output_type": "stream",
     "text": [
      "dask.array<array, shape=(10000000,), dtype=float64, chunksize=(1000000,), chunktype=numpy.ndarray>\n",
      "0.49985239739667886\n"
     ]
    }
   ],
   "source": [
    "# Create a Dask array from the NumPy array, dividing it into chunks\n",
    "chunk_size = 1_000_000 # 1 million elements per chunk (tweak as needed)\n",
    "da_array = da.from_array(np_array, chunks=chunk_size)\n",
    "print(da_array)  # this is a lazy Dask array, no computation yet\n",
    "\n",
    "# Compute the mean using Dask\n",
    "da_mean = da_array.mean().compute()  # triggers computation\n",
    "print(da_mean)"
   ]
  },
  {
   "cell_type": "code",
   "execution_count": 6,
   "id": "30cd9309-6c9b-4eb8-9154-bcbe80349869",
   "metadata": {},
   "outputs": [
    {
     "name": "stdout",
     "output_type": "stream",
     "text": [
      "8.46 ms ± 65.5 μs per loop (mean ± std. dev. of 7 runs, 100 loops each)\n"
     ]
    }
   ],
   "source": [
    "%timeit da_array.mean().compute()"
   ]
  },
  {
   "cell_type": "markdown",
   "id": "46d50f67-c093-4756-b4ce-12ee6fe6e3a9",
   "metadata": {},
   "source": [
    "Did you notice that the computation took roughly the same time as with NumPy?  \n",
    "This is not surprising: Dask is not designed to speed up very small computations.  \n",
    "\n",
    "The real strength of Dask comes when:\n",
    "- The data is too large to fit into memory on a single machine.\n",
    "- You want to distribute computations across many cores or nodes.  \n",
    "\n",
    "Since memory is such an important aspect, let’s now take a closer look at how Dask organizes its arrays into chunks. Each chunk is a NumPy array itself:\n",
    "\n",
    "![Dask Array](img/dask_array.png)"
   ]
  },
  {
   "cell_type": "code",
   "execution_count": 7,
   "id": "6fef85ce-8be1-474d-9aaf-3aa1e4c62679",
   "metadata": {},
   "outputs": [
    {
     "data": {
      "text/html": [
       "<table>\n",
       "    <tr>\n",
       "        <td>\n",
       "            <table style=\"border-collapse: collapse;\">\n",
       "                <thead>\n",
       "                    <tr>\n",
       "                        <td> </td>\n",
       "                        <th> Array </th>\n",
       "                        <th> Chunk </th>\n",
       "                    </tr>\n",
       "                </thead>\n",
       "                <tbody>\n",
       "                    \n",
       "                    <tr>\n",
       "                        <th> Bytes </th>\n",
       "                        <td> 76.29 MiB </td>\n",
       "                        <td> 7.63 MiB </td>\n",
       "                    </tr>\n",
       "                    \n",
       "                    <tr>\n",
       "                        <th> Shape </th>\n",
       "                        <td> (10000000,) </td>\n",
       "                        <td> (1000000,) </td>\n",
       "                    </tr>\n",
       "                    <tr>\n",
       "                        <th> Dask graph </th>\n",
       "                        <td colspan=\"2\"> 10 chunks in 1 graph layer </td>\n",
       "                    </tr>\n",
       "                    <tr>\n",
       "                        <th> Data type </th>\n",
       "                        <td colspan=\"2\"> float64 numpy.ndarray </td>\n",
       "                    </tr>\n",
       "                </tbody>\n",
       "            </table>\n",
       "        </td>\n",
       "        <td>\n",
       "        <svg width=\"170\" height=\"75\" style=\"stroke:rgb(0,0,0);stroke-width:1\" >\n",
       "\n",
       "  <!-- Horizontal lines -->\n",
       "  <line x1=\"0\" y1=\"0\" x2=\"120\" y2=\"0\" style=\"stroke-width:2\" />\n",
       "  <line x1=\"0\" y1=\"25\" x2=\"120\" y2=\"25\" style=\"stroke-width:2\" />\n",
       "\n",
       "  <!-- Vertical lines -->\n",
       "  <line x1=\"0\" y1=\"0\" x2=\"0\" y2=\"25\" style=\"stroke-width:2\" />\n",
       "  <line x1=\"12\" y1=\"0\" x2=\"12\" y2=\"25\" />\n",
       "  <line x1=\"24\" y1=\"0\" x2=\"24\" y2=\"25\" />\n",
       "  <line x1=\"36\" y1=\"0\" x2=\"36\" y2=\"25\" />\n",
       "  <line x1=\"48\" y1=\"0\" x2=\"48\" y2=\"25\" />\n",
       "  <line x1=\"60\" y1=\"0\" x2=\"60\" y2=\"25\" />\n",
       "  <line x1=\"72\" y1=\"0\" x2=\"72\" y2=\"25\" />\n",
       "  <line x1=\"84\" y1=\"0\" x2=\"84\" y2=\"25\" />\n",
       "  <line x1=\"96\" y1=\"0\" x2=\"96\" y2=\"25\" />\n",
       "  <line x1=\"108\" y1=\"0\" x2=\"108\" y2=\"25\" />\n",
       "  <line x1=\"120\" y1=\"0\" x2=\"120\" y2=\"25\" style=\"stroke-width:2\" />\n",
       "\n",
       "  <!-- Colored Rectangle -->\n",
       "  <polygon points=\"0.0,0.0 120.0,0.0 120.0,25.412616514582485 0.0,25.412616514582485\" style=\"fill:#ECB172A0;stroke-width:0\"/>\n",
       "\n",
       "  <!-- Text -->\n",
       "  <text x=\"60.000000\" y=\"45.412617\" font-size=\"1.0rem\" font-weight=\"100\" text-anchor=\"middle\" >10000000</text>\n",
       "  <text x=\"140.000000\" y=\"12.706308\" font-size=\"1.0rem\" font-weight=\"100\" text-anchor=\"middle\" transform=\"rotate(0,140.000000,12.706308)\">1</text>\n",
       "</svg>\n",
       "        </td>\n",
       "    </tr>\n",
       "</table>"
      ],
      "text/plain": [
       "dask.array<array, shape=(10000000,), dtype=float64, chunksize=(1000000,), chunktype=numpy.ndarray>"
      ]
     },
     "execution_count": 7,
     "metadata": {},
     "output_type": "execute_result"
    }
   ],
   "source": [
    "da_array"
   ]
  },
  {
   "cell_type": "markdown",
   "id": "3b3538c8-f5a8-4d35-8e0f-3af230bc024f",
   "metadata": {},
   "source": [
    "Choosing the right chunking strategy is crucial for good performance.  \n",
    "The better you understand the structure of your data, the more intelligently you can define the chunks.  \n",
    "\n",
    "And remember: your data may not always be a simple 1D array – it could be 2D, 3D, or even higher-dimensional."
   ]
  },
  {
   "cell_type": "code",
   "execution_count": 8,
   "id": "16117f08-6213-4f6c-8b3f-1a7c12925577",
   "metadata": {},
   "outputs": [
    {
     "data": {
      "text/html": [
       "<table>\n",
       "    <tr>\n",
       "        <td>\n",
       "            <table style=\"border-collapse: collapse;\">\n",
       "                <thead>\n",
       "                    <tr>\n",
       "                        <td> </td>\n",
       "                        <th> Array </th>\n",
       "                        <th> Chunk </th>\n",
       "                    </tr>\n",
       "                </thead>\n",
       "                <tbody>\n",
       "                    \n",
       "                    <tr>\n",
       "                        <th> Bytes </th>\n",
       "                        <td> 76.29 MiB </td>\n",
       "                        <td> 781.25 kiB </td>\n",
       "                    </tr>\n",
       "                    \n",
       "                    <tr>\n",
       "                        <th> Shape </th>\n",
       "                        <td> (1000, 10000) </td>\n",
       "                        <td> (100, 1000) </td>\n",
       "                    </tr>\n",
       "                    <tr>\n",
       "                        <th> Dask graph </th>\n",
       "                        <td colspan=\"2\"> 100 chunks in 1 graph layer </td>\n",
       "                    </tr>\n",
       "                    <tr>\n",
       "                        <th> Data type </th>\n",
       "                        <td colspan=\"2\"> float64 numpy.ndarray </td>\n",
       "                    </tr>\n",
       "                </tbody>\n",
       "            </table>\n",
       "        </td>\n",
       "        <td>\n",
       "        <svg width=\"170\" height=\"88\" style=\"stroke:rgb(0,0,0);stroke-width:1\" >\n",
       "\n",
       "  <!-- Horizontal lines -->\n",
       "  <line x1=\"0\" y1=\"0\" x2=\"120\" y2=\"0\" style=\"stroke-width:2\" />\n",
       "  <line x1=\"0\" y1=\"3\" x2=\"120\" y2=\"3\" />\n",
       "  <line x1=\"0\" y1=\"7\" x2=\"120\" y2=\"7\" />\n",
       "  <line x1=\"0\" y1=\"11\" x2=\"120\" y2=\"11\" />\n",
       "  <line x1=\"0\" y1=\"15\" x2=\"120\" y2=\"15\" />\n",
       "  <line x1=\"0\" y1=\"19\" x2=\"120\" y2=\"19\" />\n",
       "  <line x1=\"0\" y1=\"23\" x2=\"120\" y2=\"23\" />\n",
       "  <line x1=\"0\" y1=\"27\" x2=\"120\" y2=\"27\" />\n",
       "  <line x1=\"0\" y1=\"30\" x2=\"120\" y2=\"30\" />\n",
       "  <line x1=\"0\" y1=\"34\" x2=\"120\" y2=\"34\" />\n",
       "  <line x1=\"0\" y1=\"38\" x2=\"120\" y2=\"38\" style=\"stroke-width:2\" />\n",
       "\n",
       "  <!-- Vertical lines -->\n",
       "  <line x1=\"0\" y1=\"0\" x2=\"0\" y2=\"38\" style=\"stroke-width:2\" />\n",
       "  <line x1=\"12\" y1=\"0\" x2=\"12\" y2=\"38\" />\n",
       "  <line x1=\"24\" y1=\"0\" x2=\"24\" y2=\"38\" />\n",
       "  <line x1=\"36\" y1=\"0\" x2=\"36\" y2=\"38\" />\n",
       "  <line x1=\"48\" y1=\"0\" x2=\"48\" y2=\"38\" />\n",
       "  <line x1=\"60\" y1=\"0\" x2=\"60\" y2=\"38\" />\n",
       "  <line x1=\"72\" y1=\"0\" x2=\"72\" y2=\"38\" />\n",
       "  <line x1=\"84\" y1=\"0\" x2=\"84\" y2=\"38\" />\n",
       "  <line x1=\"96\" y1=\"0\" x2=\"96\" y2=\"38\" />\n",
       "  <line x1=\"108\" y1=\"0\" x2=\"108\" y2=\"38\" />\n",
       "  <line x1=\"120\" y1=\"0\" x2=\"120\" y2=\"38\" style=\"stroke-width:2\" />\n",
       "\n",
       "  <!-- Colored Rectangle -->\n",
       "  <polygon points=\"0.0,0.0 120.0,0.0 120.0,38.596863036086 0.0,38.596863036086\" style=\"fill:#ECB172A0;stroke-width:0\"/>\n",
       "\n",
       "  <!-- Text -->\n",
       "  <text x=\"60.000000\" y=\"58.596863\" font-size=\"1.0rem\" font-weight=\"100\" text-anchor=\"middle\" >10000</text>\n",
       "  <text x=\"140.000000\" y=\"19.298432\" font-size=\"1.0rem\" font-weight=\"100\" text-anchor=\"middle\" transform=\"rotate(-90,140.000000,19.298432)\">1000</text>\n",
       "</svg>\n",
       "        </td>\n",
       "    </tr>\n",
       "</table>"
      ],
      "text/plain": [
       "dask.array<array, shape=(1000, 10000), dtype=float64, chunksize=(100, 1000), chunktype=numpy.ndarray>"
      ]
     },
     "execution_count": 8,
     "metadata": {},
     "output_type": "execute_result"
    }
   ],
   "source": [
    "np_array2d = np_array.reshape((1000, 10000)) \n",
    "da_array2d = da.from_array(np_array2d, chunks=(100,1000))\n",
    "da_array2d"
   ]
  },
  {
   "cell_type": "markdown",
   "id": "cb2a257b-034c-4c26-8ab4-b14bbf226238",
   "metadata": {},
   "source": [
    "Dask didn't actually compute the mean until we called .compute(). Instead, it built a task graph for the mean of each chunk and then a final mean of the intermediate results. This graph was executed in parallel when we invoked compute. If you were to look at the Dask dashboard (more on that later), you would see tasks for each chunk being processed simultaneously.\n",
    "\n",
    "**Why \"lazy\" evaluation?**\n",
    "\n",
    "Dask Arrays (and DataFrames, etc.) use lazy evaluation. Every operation (like darr.mean()) builds a graph of tasks. This allows Dask to:\n",
    "* Optimize the graph (e.g., fuse tasks, avoid repeated work).\n",
    "* Parallelize execution, because it knows all the steps and their dependencies.\n",
    "* Distribute tasks to multiple workers in a cluster.\n",
    "\n",
    "For example, computing the mean of a Dask array might involve first computing partial sums on each chunk, then a final sum and division. These can run in parallel on different workers. The computation only kicks off when explicitly requested (with .compute() or .persist() or by converting to a concrete type via np.array() or similar)."
   ]
  },
  {
   "cell_type": "code",
   "execution_count": 9,
   "id": "f552f874-4586-4d03-aaa8-a1d4f06d51d5",
   "metadata": {},
   "outputs": [
    {
     "data": {
      "image/png": "[encoded data removed]",
      "text/plain": [
       "<IPython.core.display.Image object>"
      ]
     },
     "execution_count": 9,
     "metadata": {},
     "output_type": "execute_result"
    }
   ],
   "source": [
    "da_array.mean().visualize(engine=\"graphviz\")"
   ]
  },
  {
   "cell_type": "markdown",
   "id": "147e3dd8-a0cb-4103-9a3c-d557e065f6f7",
   "metadata": {},
   "source": [
    "Let’s try a different operation: the square root.  \n",
    "NumPy executes this in a single thread by default, so it won’t exploit all CPU cores.  \n",
    "Dask, on the other hand, runs in **threaded mode** by default, which means it can use multiple threads to evaluate the computation graph in parallel."
   ]
  },
  {
   "cell_type": "code",
   "execution_count": 10,
   "id": "e1484249-10fd-46f6-9152-f6fb6f057977",
   "metadata": {},
   "outputs": [
    {
     "name": "stdout",
     "output_type": "stream",
     "text": [
      "6665398.634790414\n",
      "12 ms ± 449 μs per loop (mean ± std. dev. of 7 runs, 100 loops each)\n"
     ]
    }
   ],
   "source": [
    "da_array_op = da.sqrt(da_array).sum()\n",
    "\n",
    "result = da_array_op.compute()\n",
    "print(result)\n",
    "%timeit da_array_op.compute()"
   ]
  },
  {
   "cell_type": "code",
   "execution_count": 11,
   "id": "2c216e1d-a253-4f0e-bf0a-3d05280025f3",
   "metadata": {},
   "outputs": [
    {
     "data": {
      "image/png": "[encoded data removed]",
      "text/plain": [
       "<IPython.core.display.Image object>"
      ]
     },
     "execution_count": 11,
     "metadata": {},
     "output_type": "execute_result"
    }
   ],
   "source": [
    "da_array_op.visualize()"
   ]
  },
  {
   "cell_type": "code",
   "execution_count": 12,
   "id": "0836cb40-fb82-4c3b-a302-c454b2c21e26",
   "metadata": {},
   "outputs": [
    {
     "name": "stdout",
     "output_type": "stream",
     "text": [
      "6665398.634790413\n",
      "32.4 ms ± 153 μs per loop (mean ± std. dev. of 7 runs, 10 loops each)\n"
     ]
    }
   ],
   "source": [
    "result = np.sqrt(np_array).sum()\n",
    "print(result)\n",
    "%timeit np.sqrt(np_array).sum()"
   ]
  },
  {
   "cell_type": "markdown",
   "id": "73a507ff-a295-486c-b300-7136832f5d97",
   "metadata": {},
   "source": [
    "#### Task 1\n",
    "Experiment with different **chunk sizes** and observe their impact on performance.  \n",
    "How does the choice of chunking influence execution time?\n",
    "\n",
    "```python\n",
    "da_task1 = da.from_array(np_array, chunks=xxxxxxxxxx)\n",
    "print(f\"Chunk size {i}:  \", end=\"\")\n",
    "%timeit da.sqrt(da_task1).sum().compute()\n",
    "```"
   ]
  },
  {
   "cell_type": "code",
   "execution_count": 15,
   "id": "6d0f0309-b82c-4419-87ae-2b60371fcd60",
   "metadata": {},
   "outputs": [
    {
     "name": "stdout",
     "output_type": "stream",
     "text": [
      "31.3 s ± 413 ms per loop (mean ± std. dev. of 7 runs, 1 loop each)\n",
      "3.05 s ± 28.6 ms per loop (mean ± std. dev. of 7 runs, 1 loop each)\n",
      "347 ms ± 4.57 ms per loop (mean ± std. dev. of 7 runs, 1 loop each)\n",
      "43.9 ms ± 848 μs per loop (mean ± std. dev. of 7 runs, 10 loops each)\n"
     ]
    }
   ],
   "source": [
    "#ToDo"
   ]
  },
  {
   "cell_type": "markdown",
   "id": "acc39b67-bd93-4b75-9b96-5d4f127d773d",
   "metadata": {},
   "source": [
    "### Dask DataFrame and Dask Bag (quick look)\n",
    "\n",
    "While our focus is on arrays and numerical computing, note that Dask has other collections:\n",
    "\n",
    "* Dask DataFrame: Parallelizes pandas DataFrame operations across many partitions (useful for tabular data bigger than RAM or for leveraging multiple cores).\n",
    "* Dask Bag: For general Python objects or irregular data (like a list of Python dicts, text processing, etc.), providing functional programming primitives to parallelize map, filter, etc.\n",
    "\n",
    "If your HPC tasks involve big data tables or unstructured data, these might be relevant. Usage is similar: you create a Dask DataFrame by reading data (e.g., `dd.read_csv` or `dd.from_pandas`), then use familiar methods like `df.groupby().sum()`, and call `.compute()` to execute. Under the hood, it will do the grouping on each partition in parallel, then aggregate."
   ]
  },
  {
   "cell_type": "code",
   "execution_count": 10,
   "id": "27c2d365-6493-442a-b04e-30388b993a1b",
   "metadata": {},
   "outputs": [
    {
     "data": {
      "text/html": [
       "<div>\n",
       "<style scoped>\n",
       "    .dataframe tbody tr th:only-of-type {\n",
       "        vertical-align: middle;\n",
       "    }\n",
       "\n",
       "    .dataframe tbody tr th {\n",
       "        vertical-align: top;\n",
       "    }\n",
       "\n",
       "    .dataframe thead th {\n",
       "        text-align: right;\n",
       "    }\n",
       "</style>\n",
       "<table border=\"1\" class=\"dataframe\">\n",
       "  <thead>\n",
       "    <tr style=\"text-align: right;\">\n",
       "      <th></th>\n",
       "      <th>Year</th>\n",
       "      <th>Month</th>\n",
       "      <th>DayofMonth</th>\n",
       "      <th>DayOfWeek</th>\n",
       "      <th>DepTime</th>\n",
       "      <th>CRSDepTime</th>\n",
       "      <th>ArrTime</th>\n",
       "      <th>CRSArrTime</th>\n",
       "      <th>UniqueCarrier</th>\n",
       "      <th>FlightNum</th>\n",
       "      <th>...</th>\n",
       "      <th>AirTime</th>\n",
       "      <th>ArrDelay</th>\n",
       "      <th>DepDelay</th>\n",
       "      <th>Origin</th>\n",
       "      <th>Dest</th>\n",
       "      <th>Distance</th>\n",
       "      <th>TaxiIn</th>\n",
       "      <th>TaxiOut</th>\n",
       "      <th>Cancelled</th>\n",
       "      <th>Diverted</th>\n",
       "    </tr>\n",
       "  </thead>\n",
       "  <tbody>\n",
       "    <tr>\n",
       "      <th>0</th>\n",
       "      <td>1990</td>\n",
       "      <td>1</td>\n",
       "      <td>1</td>\n",
       "      <td>1</td>\n",
       "      <td>1621.0</td>\n",
       "      <td>1540</td>\n",
       "      <td>1747.0</td>\n",
       "      <td>1701</td>\n",
       "      <td>US</td>\n",
       "      <td>33</td>\n",
       "      <td>...</td>\n",
       "      <td>NaN</td>\n",
       "      <td>46.0</td>\n",
       "      <td>41.0</td>\n",
       "      <td>EWR</td>\n",
       "      <td>PIT</td>\n",
       "      <td>319.0</td>\n",
       "      <td>NaN</td>\n",
       "      <td>NaN</td>\n",
       "      <td>False</td>\n",
       "      <td>0</td>\n",
       "    </tr>\n",
       "    <tr>\n",
       "      <th>1</th>\n",
       "      <td>1990</td>\n",
       "      <td>1</td>\n",
       "      <td>2</td>\n",
       "      <td>2</td>\n",
       "      <td>1547.0</td>\n",
       "      <td>1540</td>\n",
       "      <td>1700.0</td>\n",
       "      <td>1701</td>\n",
       "      <td>US</td>\n",
       "      <td>33</td>\n",
       "      <td>...</td>\n",
       "      <td>NaN</td>\n",
       "      <td>-1.0</td>\n",
       "      <td>7.0</td>\n",
       "      <td>EWR</td>\n",
       "      <td>PIT</td>\n",
       "      <td>319.0</td>\n",
       "      <td>NaN</td>\n",
       "      <td>NaN</td>\n",
       "      <td>False</td>\n",
       "      <td>0</td>\n",
       "    </tr>\n",
       "    <tr>\n",
       "      <th>2</th>\n",
       "      <td>1990</td>\n",
       "      <td>1</td>\n",
       "      <td>3</td>\n",
       "      <td>3</td>\n",
       "      <td>1546.0</td>\n",
       "      <td>1540</td>\n",
       "      <td>1710.0</td>\n",
       "      <td>1701</td>\n",
       "      <td>US</td>\n",
       "      <td>33</td>\n",
       "      <td>...</td>\n",
       "      <td>NaN</td>\n",
       "      <td>9.0</td>\n",
       "      <td>6.0</td>\n",
       "      <td>EWR</td>\n",
       "      <td>PIT</td>\n",
       "      <td>319.0</td>\n",
       "      <td>NaN</td>\n",
       "      <td>NaN</td>\n",
       "      <td>False</td>\n",
       "      <td>0</td>\n",
       "    </tr>\n",
       "    <tr>\n",
       "      <th>3</th>\n",
       "      <td>1990</td>\n",
       "      <td>1</td>\n",
       "      <td>4</td>\n",
       "      <td>4</td>\n",
       "      <td>1542.0</td>\n",
       "      <td>1540</td>\n",
       "      <td>1710.0</td>\n",
       "      <td>1701</td>\n",
       "      <td>US</td>\n",
       "      <td>33</td>\n",
       "      <td>...</td>\n",
       "      <td>NaN</td>\n",
       "      <td>9.0</td>\n",
       "      <td>2.0</td>\n",
       "      <td>EWR</td>\n",
       "      <td>PIT</td>\n",
       "      <td>319.0</td>\n",
       "      <td>NaN</td>\n",
       "      <td>NaN</td>\n",
       "      <td>False</td>\n",
       "      <td>0</td>\n",
       "    </tr>\n",
       "    <tr>\n",
       "      <th>4</th>\n",
       "      <td>1990</td>\n",
       "      <td>1</td>\n",
       "      <td>5</td>\n",
       "      <td>5</td>\n",
       "      <td>1549.0</td>\n",
       "      <td>1540</td>\n",
       "      <td>1706.0</td>\n",
       "      <td>1701</td>\n",
       "      <td>US</td>\n",
       "      <td>33</td>\n",
       "      <td>...</td>\n",
       "      <td>NaN</td>\n",
       "      <td>5.0</td>\n",
       "      <td>9.0</td>\n",
       "      <td>EWR</td>\n",
       "      <td>PIT</td>\n",
       "      <td>319.0</td>\n",
       "      <td>NaN</td>\n",
       "      <td>NaN</td>\n",
       "      <td>False</td>\n",
       "      <td>0</td>\n",
       "    </tr>\n",
       "  </tbody>\n",
       "</table>\n",
       "<p>5 rows × 23 columns</p>\n",
       "</div>"
      ],
      "text/plain": [
       "   Year  Month  DayofMonth  DayOfWeek  DepTime  CRSDepTime  ArrTime  \\\n",
       "0  1990      1           1          1   1621.0        1540   1747.0   \n",
       "1  1990      1           2          2   1547.0        1540   1700.0   \n",
       "2  1990      1           3          3   1546.0        1540   1710.0   \n",
       "3  1990      1           4          4   1542.0        1540   1710.0   \n",
       "4  1990      1           5          5   1549.0        1540   1706.0   \n",
       "\n",
       "   CRSArrTime UniqueCarrier  FlightNum  ... AirTime  ArrDelay  DepDelay  \\\n",
       "0        1701            US         33  ...     NaN      46.0      41.0   \n",
       "1        1701            US         33  ...     NaN      -1.0       7.0   \n",
       "2        1701            US         33  ...     NaN       9.0       6.0   \n",
       "3        1701            US         33  ...     NaN       9.0       2.0   \n",
       "4        1701            US         33  ...     NaN       5.0       9.0   \n",
       "\n",
       "   Origin  Dest  Distance TaxiIn TaxiOut  Cancelled  Diverted  \n",
       "0     EWR   PIT     319.0    NaN     NaN      False         0  \n",
       "1     EWR   PIT     319.0    NaN     NaN      False         0  \n",
       "2     EWR   PIT     319.0    NaN     NaN      False         0  \n",
       "3     EWR   PIT     319.0    NaN     NaN      False         0  \n",
       "4     EWR   PIT     319.0    NaN     NaN      False         0  \n",
       "\n",
       "[5 rows x 23 columns]"
      ]
     },
     "execution_count": 10,
     "metadata": {},
     "output_type": "execute_result"
    }
   ],
   "source": [
    "# Read multiple csv files\n",
    "df = dd.read_csv(os.path.join('/shared-scratch/hpcp/nycflights/*.csv'),dtype={'TailNum': object, 'CRSElapsedTime': float, 'Cancelled': bool})\n",
    "df.head()"
   ]
  },
  {
   "cell_type": "code",
   "execution_count": 11,
   "id": "3bf86933-9c02-4232-818b-648ec0d4d229",
   "metadata": {},
   "outputs": [
    {
     "data": {
      "text/plain": [
       "<dask_expr.expr.Scalar: expr=((Filter(frame=ArrowStringConversion(frame=FromMapProjectable(aa8e63a)), predicate=~ ArrowStringConversion(frame=FromMapProjectable(aa8e63a))['Cancelled']))['DepDelay']).max(), dtype=float64>"
      ]
     },
     "execution_count": 11,
     "metadata": {},
     "output_type": "execute_result"
    }
   ],
   "source": [
    "largest_delay = df[~df.Cancelled].DepDelay.max()\n",
    "largest_delay"
   ]
  },
  {
   "cell_type": "code",
   "execution_count": 12,
   "id": "b01b0d35-e80f-49a5-8a31-2a64fe339696",
   "metadata": {},
   "outputs": [
    {
     "data": {
      "image/svg+xml": [
       "<?xml version=\"1.0\" encoding=\"UTF-8\" standalone=\"no\"?>\n",
       "<!DOCTYPE svg PUBLIC \"-//W3C//DTD SVG 1.1//EN\"\n",
       " \"http://www.w3.org/Graphics/SVG/1.1/DTD/svg11.dtd\">\n",
       "<!-- Generated by graphviz version 13.1.2 (20250809.0930)\n",
       " -->\n",
       "<!-- Pages: 1 -->\n",
       "<svg width=\"630pt\" height=\"476pt\"\n",
       " viewBox=\"0.00 0.00 630.00 476.00\" xmlns=\"http://www.w3.org/2000/svg\" xmlns:xlink=\"http://www.w3.org/1999/xlink\">\n",
       "<g id=\"graph0\" class=\"graph\" transform=\"scale(1 1) rotate(0) translate(4 472)\">\n",
       "<polygon fill=\"white\" stroke=\"none\" points=\"-4,4 -4,-472 625.75,-472 625.75,4 -4,4\"/>\n",
       "<!-- &#45;2436185958597364499 -->\n",
       "<g id=\"node1\" class=\"node\">\n",
       "<title>&#45;2436185958597364499</title>\n",
       "<polygon fill=\"none\" stroke=\"black\" points=\"273.62,-468 103.88,-468 103.88,-432 273.62,-432 273.62,-468\"/>\n",
       "<text xml:space=\"preserve\" text-anchor=\"middle\" x=\"188.75\" y=\"-443\" font-family=\"Helvetica,sans-Serif\" font-size=\"20.00\">Max(Projection)</text>\n",
       "</g>\n",
       "<!-- 7977376710942351800 -->\n",
       "<g id=\"node2\" class=\"node\">\n",
       "<title>7977376710942351800</title>\n",
       "<polygon fill=\"none\" stroke=\"black\" points=\"331.75,-396 45.75,-396 45.75,-360 331.75,-360 331.75,-396\"/>\n",
       "<text xml:space=\"preserve\" text-anchor=\"middle\" x=\"188.75\" y=\"-371\" font-family=\"Helvetica,sans-Serif\" font-size=\"20.00\">Projection(Filter, DepDelay)</text>\n",
       "</g>\n",
       "<!-- 7977376710942351800&#45;&gt;&#45;2436185958597364499 -->\n",
       "<g id=\"edge1\" class=\"edge\">\n",
       "<title>7977376710942351800&#45;&gt;&#45;2436185958597364499</title>\n",
       "<path fill=\"none\" stroke=\"black\" d=\"M188.75,-396.3C188.75,-403.59 188.75,-412.27 188.75,-420.46\"/>\n",
       "<polygon fill=\"black\" stroke=\"black\" points=\"185.25,-420.38 188.75,-430.38 192.25,-420.38 185.25,-420.38\"/>\n",
       "</g>\n",
       "<!-- &#45;4840511057453007107 -->\n",
       "<g id=\"node3\" class=\"node\">\n",
       "<title>&#45;4840511057453007107</title>\n",
       "<polygon fill=\"none\" stroke=\"black\" points=\"377.5,-324 0,-324 0,-288 377.5,-288 377.5,-324\"/>\n",
       "<text xml:space=\"preserve\" text-anchor=\"middle\" x=\"188.75\" y=\"-299\" font-family=\"Helvetica,sans-Serif\" font-size=\"20.00\">Filter(ArrowStringConversion, Invert)</text>\n",
       "</g>\n",
       "<!-- &#45;4840511057453007107&#45;&gt;7977376710942351800 -->\n",
       "<g id=\"edge2\" class=\"edge\">\n",
       "<title>&#45;4840511057453007107&#45;&gt;7977376710942351800</title>\n",
       "<path fill=\"none\" stroke=\"black\" d=\"M188.75,-324.3C188.75,-331.59 188.75,-340.27 188.75,-348.46\"/>\n",
       "<polygon fill=\"black\" stroke=\"black\" points=\"185.25,-348.38 188.75,-358.38 192.25,-348.38 185.25,-348.38\"/>\n",
       "</g>\n",
       "<!-- &#45;1706550798640938968 -->\n",
       "<g id=\"node4\" class=\"node\">\n",
       "<title>&#45;1706550798640938968</title>\n",
       "<polygon fill=\"none\" stroke=\"black\" points=\"412.25,-252 225.25,-252 225.25,-216 412.25,-216 412.25,-252\"/>\n",
       "<text xml:space=\"preserve\" text-anchor=\"middle\" x=\"318.75\" y=\"-227\" font-family=\"Helvetica,sans-Serif\" font-size=\"20.00\">Invert(Projection)</text>\n",
       "</g>\n",
       "<!-- &#45;1706550798640938968&#45;&gt;&#45;4840511057453007107 -->\n",
       "<g id=\"edge3\" class=\"edge\">\n",
       "<title>&#45;1706550798640938968&#45;&gt;&#45;4840511057453007107</title>\n",
       "<path fill=\"none\" stroke=\"black\" d=\"M286.28,-252.48C269.48,-261.53 248.77,-272.68 230.77,-282.38\"/>\n",
       "<polygon fill=\"black\" stroke=\"black\" points=\"229.28,-279.2 222.14,-287.02 232.6,-285.36 229.28,-279.2\"/>\n",
       "</g>\n",
       "<!-- &#45;3113835009710133939 -->\n",
       "<g id=\"node5\" class=\"node\">\n",
       "<title>&#45;3113835009710133939</title>\n",
       "<polygon fill=\"none\" stroke=\"black\" points=\"621.75,-180 155.75,-180 155.75,-144 621.75,-144 621.75,-180\"/>\n",
       "<text xml:space=\"preserve\" text-anchor=\"middle\" x=\"388.75\" y=\"-155\" font-family=\"Helvetica,sans-Serif\" font-size=\"20.00\">Projection(ArrowStringConversion, Cancelled)</text>\n",
       "</g>\n",
       "<!-- &#45;3113835009710133939&#45;&gt;&#45;1706550798640938968 -->\n",
       "<g id=\"edge5\" class=\"edge\">\n",
       "<title>&#45;3113835009710133939&#45;&gt;&#45;1706550798640938968</title>\n",
       "<path fill=\"none\" stroke=\"black\" d=\"M371.45,-180.3C363.14,-188.61 353.03,-198.72 343.89,-207.86\"/>\n",
       "<polygon fill=\"black\" stroke=\"black\" points=\"341.52,-205.28 336.92,-214.83 346.47,-210.23 341.52,-205.28\"/>\n",
       "</g>\n",
       "<!-- 8236565001547199205 -->\n",
       "<g id=\"node6\" class=\"node\">\n",
       "<title>8236565001547199205</title>\n",
       "<polygon fill=\"none\" stroke=\"black\" points=\"487.38,-108 28.12,-108 28.12,-72 487.38,-72 487.38,-108\"/>\n",
       "<text xml:space=\"preserve\" text-anchor=\"middle\" x=\"257.75\" y=\"-83\" font-family=\"Helvetica,sans-Serif\" font-size=\"20.00\">ArrowStringConversion(FromMapProjectable)</text>\n",
       "</g>\n",
       "<!-- 8236565001547199205&#45;&gt;&#45;4840511057453007107 -->\n",
       "<g id=\"edge4\" class=\"edge\">\n",
       "<title>8236565001547199205&#45;&gt;&#45;4840511057453007107</title>\n",
       "<path fill=\"none\" stroke=\"black\" d=\"M191.19,-108.45C173.77,-116.37 157,-127.74 146.75,-144 120.22,-186.07 148.38,-244.38 169.66,-278.06\"/>\n",
       "<polygon fill=\"black\" stroke=\"black\" points=\"166.73,-279.97 175.15,-286.41 172.58,-276.13 166.73,-279.97\"/>\n",
       "</g>\n",
       "<!-- 8236565001547199205&#45;&gt;&#45;3113835009710133939 -->\n",
       "<g id=\"edge6\" class=\"edge\">\n",
       "<title>8236565001547199205&#45;&gt;&#45;3113835009710133939</title>\n",
       "<path fill=\"none\" stroke=\"black\" d=\"M290.47,-108.48C307.4,-117.53 328.27,-128.68 346.41,-138.38\"/>\n",
       "<polygon fill=\"black\" stroke=\"black\" points=\"344.64,-141.4 355.11,-143.03 347.94,-135.23 344.64,-141.4\"/>\n",
       "</g>\n",
       "<!-- &#45;497514043839366075 -->\n",
       "<g id=\"node7\" class=\"node\">\n",
       "<title>&#45;497514043839366075</title>\n",
       "<polygon fill=\"none\" stroke=\"black\" points=\"365.88,-36 149.62,-36 149.62,0 365.88,0 365.88,-36\"/>\n",
       "<text xml:space=\"preserve\" text-anchor=\"middle\" x=\"257.75\" y=\"-11\" font-family=\"Helvetica,sans-Serif\" font-size=\"20.00\">FromMapProjectable</text>\n",
       "</g>\n",
       "<!-- &#45;497514043839366075&#45;&gt;8236565001547199205 -->\n",
       "<g id=\"edge7\" class=\"edge\">\n",
       "<title>&#45;497514043839366075&#45;&gt;8236565001547199205</title>\n",
       "<path fill=\"none\" stroke=\"black\" d=\"M257.75,-36.3C257.75,-43.59 257.75,-52.27 257.75,-60.46\"/>\n",
       "<polygon fill=\"black\" stroke=\"black\" points=\"254.25,-60.38 257.75,-70.38 261.25,-60.38 254.25,-60.38\"/>\n",
       "</g>\n",
       "</g>\n",
       "</svg>\n"
      ],
      "text/plain": [
       "<graphviz.graphs.Digraph at 0x14b93f9578c0>"
      ]
     },
     "execution_count": 12,
     "metadata": {},
     "output_type": "execute_result"
    }
   ],
   "source": [
    "largest_delay.visualize()"
   ]
  },
  {
   "cell_type": "code",
   "execution_count": 13,
   "id": "aa6486c4-20b4-43a0-b22c-728121cadfd3",
   "metadata": {},
   "outputs": [
    {
     "data": {
      "text/plain": [
       "1435.0"
      ]
     },
     "execution_count": 13,
     "metadata": {},
     "output_type": "execute_result"
    }
   ],
   "source": [
    "largest_delay.compute()"
   ]
  },
  {
   "cell_type": "markdown",
   "id": "665b753e-b8d8-4bfd-9dd8-032ee571ac1d",
   "metadata": {},
   "source": [
    "### Custom Workflows: Dask Delayed and Futures for Parallel Python\n",
    "Sometimes you have custom Python code (not easily expressed as array or dataframe operations) that you want to parallelize. Dask provides lower-level primitives for this:\n",
    "\n",
    "* dask.delayed: a decorator or function to turn a Python function call into a lazy task in a graph.\n",
    "* dask.distributed Client submit/gather (Futures): to directly submit functions to the scheduler for asynchronous execution.\n",
    "\n",
    "These allow you to express workflows that might not fit into the high-level collections.\n",
    "\n",
    "Let's say we have an expensive function that processes a single piece of data (could be anything: an image, a simulation for one parameter set, etc.). We want to run it for many inputs in parallel.\n",
    "\n",
    "Example scenario: We want to compute $f(x) = \\sqrt{x^2 + 1}$ for a bunch of values of x (just a toy example). We could do this in a loop, but we'll simulate that f(x) is expensive (imagine it calls a heavy subroutine or does a big file I/O)."
   ]
  },
  {
   "cell_type": "code",
   "execution_count": 23,
   "id": "6e1b786e-ca7c-4a49-a645-1efa2a5f2cdf",
   "metadata": {},
   "outputs": [
    {
     "name": "stdout",
     "output_type": "stream",
     "text": [
      "CPU times: user 431 μs, sys: 1.03 ms, total: 1.46 ms\n",
      "Wall time: 2 s\n",
      "[1.0, 1.4142135623730951, 2.23606797749979, 3.1622776601683795, 4.123105625617661, 5.0990195135927845, 6.082762530298219, 7.0710678118654755, 8.06225774829855, 9.055385138137417, 10.04987562112089, 11.045361017187261, 12.041594578792296, 13.038404810405298, 14.035668847618199, 15.033296378372908, 16.0312195418814, 17.029386365926403, 18.027756377319946, 19.026297590440446]\n"
     ]
    }
   ],
   "source": [
    "def f(x):\n",
    "    # Simulate an expensive computation\n",
    "    sleep(0.1)            # pretend there's a time-consuming step\n",
    "    return math.sqrt(x**2 + 1)\n",
    "\n",
    "# Suppose we want to compute this for 20 different values:\n",
    "xs = list(range(20))\n",
    "%time results = [f(x) for x in xs]\n",
    "print(results)"
   ]
  },
  {
   "cell_type": "code",
   "execution_count": 26,
   "id": "93e4b6e9-0151-4278-9ef8-088f62a7573c",
   "metadata": {},
   "outputs": [
    {
     "name": "stdout",
     "output_type": "stream",
     "text": [
      "[Delayed('f-16978282-0e7f-46fb-bb7e-0455451208f0'), Delayed('f-24ac4d89-4a80-4653-a73e-e57d2c1a0980'), Delayed('f-73454375-4528-4928-9e20-db1598703f4e')]\n",
      "CPU times: user 6.57 ms, sys: 94 μs, total: 6.66 ms\n",
      "Wall time: 505 ms\n",
      "[1.0, 1.4142135623730951, 2.23606797749979, 3.1622776601683795, 4.123105625617661, 5.0990195135927845, 6.082762530298219, 7.0710678118654755, 8.06225774829855, 9.055385138137417, 10.04987562112089, 11.045361017187261, 12.041594578792296, 13.038404810405298, 14.035668847618199, 15.033296378372908, 16.0312195418814, 17.029386365926403, 18.027756377319946, 19.026297590440446]\n"
     ]
    }
   ],
   "source": [
    "# Convert the function calls into delayed tasks\n",
    "tasks = [dask.delayed(f)(x) for x in xs]\n",
    "print(tasks[:3])  # each element is a Delayed object, not a result\n",
    "\n",
    "# Combine tasks (if needed). Here we just want all results, so we can use dask.delayed to gather them into a list\n",
    "results_delayed = dask.delayed(list)(tasks)\n",
    "\n",
    "%time results = results_delayed.compute()\n",
    "print(results)"
   ]
  },
  {
   "cell_type": "markdown",
   "id": "6d226c14-608c-43ef-8b35-092a0e4e71e7",
   "metadata": {},
   "source": []
  },
  {
   "cell_type": "markdown",
   "id": "7c43f1a2-3ae0-4dd6-951d-e57185a08984",
   "metadata": {},
   "source": [
    "When you run this:\n",
    "\n",
    "* Printing tasks will show something like Delayed('f-<uuid>'), ... – these are placeholders for the future results.\n",
    "* The .compute() will execute f(x) for all x in parallel (using threads or processes via the Dask scheduler). The total time should be around ~0.1s (plus a bit of overhead) instead of 2s, because 20 tasks were executed concurrently on available cores. If you have, say, 4 cores, it might take ~0.5s (since tasks will run 4 at a time in threads).\n",
    "* This demonstrates that Dask can parallelize a Python loop with minimal changes. We didn't have to write thread-handling or use concurrent futures directly; Dask handles it.\n",
    "\n",
    "**Important**: If f(x) releases the GIL or is a pure Python function, using the threaded scheduler vs multiprocess scheduler could matter. sleep() releases the GIL, so threads are fine here. If the function was CPU-bound Python code not releasing GIL, Dask might use multiple processes to truly run in parallel. You can specify the scheduler or let Dask decide."
   ]
  },
  {
   "cell_type": "markdown",
   "id": "864250c3-d4a5-4df8-84b9-be72fbc1584c",
   "metadata": {},
   "source": [
    "#### Task 2\n",
    "\n",
    "Write a custom function (for example, one that uses a loop or does some I/O) and use dask.delayed to apply it to many inputs. Measure the speedup vs a normal Python loop. Try both the threaded scheduler and the multiprocess scheduler (hint: use `dask.config.set(scheduler='processes')` or `dask.compute(..., scheduler='processes')` for the computation) and see if there's a difference. Which scheduler works better for your function?"
   ]
  },
  {
   "cell_type": "code",
   "execution_count": 31,
   "id": "7ba0a0b0-094e-42d4-9890-90556e763599",
   "metadata": {},
   "outputs": [
    {
     "name": "stdout",
     "output_type": "stream",
     "text": [
      "Thread scheduler\n",
      "CPU times: user 22.7 s, sys: 105 ms, total: 22.8 s\n",
      "Wall time: 22.7 s\n",
      "Process scheduler\n",
      "CPU times: user 8.37 ms, sys: 6.04 ms, total: 14.4 ms\n",
      "Wall time: 13 s\n"
     ]
    }
   ],
   "source": [
    "#ToDo"
   ]
  },
  {
   "cell_type": "markdown",
   "id": "9f94b312-bbba-4285-9b35-9077a40a4725",
   "metadata": {},
   "source": [
    "### Distributed Client and Futures\n",
    "When working in a distributed setting (multiple machines), it can be convenient to use the Dask Distributed Client API. This allows you to submit tasks directly to the cluster and get back futures, which are placeholders for results that you can query or wait on. It is somewhat analogous to `concurrent.futures` in Python but works across the cluster.\n",
    "\n",
    "First, let's start a Dask LocalCluster. We use different TCP ports, in case we end up on the same compute node. "
   ]
  },
  {
   "cell_type": "code",
   "execution_count": 7,
   "id": "bf8a962f-b662-4d73-bf62-1c6afea8148f",
   "metadata": {},
   "outputs": [
    {
     "name": "stdout",
     "output_type": "stream",
     "text": [
      "\n"
     ]
    },
    {
     "data": {
      "text/html": [
       "<div>\n",
       "    <div style=\"width: 24px; height: 24px; background-color: #e1e1e1; border: 3px solid #9D9D9D; border-radius: 5px; position: absolute;\"> </div>\n",
       "    <div style=\"margin-left: 48px;\">\n",
       "        <h3 style=\"margin-bottom: 0px;\">Client</h3>\n",
       "        <p style=\"color: #9D9D9D; margin-bottom: 0px;\">Client-842ca162-841f-11f0-ac56-08f1ea8fc3fa</p>\n",
       "        <table style=\"width: 100%; text-align: left;\">\n",
       "\n",
       "        <tr>\n",
       "        \n",
       "            <td style=\"text-align: left;\"><strong>Connection method:</strong> Cluster object</td>\n",
       "            <td style=\"text-align: left;\"><strong>Cluster type:</strong> distributed.LocalCluster</td>\n",
       "        \n",
       "        </tr>\n",
       "\n",
       "        \n",
       "            <tr>\n",
       "                <td style=\"text-align: left;\">\n",
       "                    <strong>Dashboard: </strong> <a href=\"http://127.0.0.1:10055/status\" target=\"_blank\">http://127.0.0.1:10055/status</a>\n",
       "                </td>\n",
       "                <td style=\"text-align: left;\"></td>\n",
       "            </tr>\n",
       "        \n",
       "\n",
       "        </table>\n",
       "\n",
       "        \n",
       "\n",
       "        \n",
       "            <details>\n",
       "            <summary style=\"margin-bottom: 20px;\"><h3 style=\"display: inline;\">Cluster Info</h3></summary>\n",
       "            <div class=\"jp-RenderedHTMLCommon jp-RenderedHTML jp-mod-trusted jp-OutputArea-output\">\n",
       "    <div style=\"width: 24px; height: 24px; background-color: #e1e1e1; border: 3px solid #9D9D9D; border-radius: 5px; position: absolute;\">\n",
       "    </div>\n",
       "    <div style=\"margin-left: 48px;\">\n",
       "        <h3 style=\"margin-bottom: 0px; margin-top: 0px;\">LocalCluster</h3>\n",
       "        <p style=\"color: #9D9D9D; margin-bottom: 0px;\">431283c3</p>\n",
       "        <table style=\"width: 100%; text-align: left;\">\n",
       "            <tr>\n",
       "                <td style=\"text-align: left;\">\n",
       "                    <strong>Dashboard:</strong> <a href=\"http://127.0.0.1:10055/status\" target=\"_blank\">http://127.0.0.1:10055/status</a>\n",
       "                </td>\n",
       "                <td style=\"text-align: left;\">\n",
       "                    <strong>Workers:</strong> 4\n",
       "                </td>\n",
       "            </tr>\n",
       "            <tr>\n",
       "                <td style=\"text-align: left;\">\n",
       "                    <strong>Total threads:</strong> 4\n",
       "                </td>\n",
       "                <td style=\"text-align: left;\">\n",
       "                    <strong>Total memory:</strong> 8.00 GiB\n",
       "                </td>\n",
       "            </tr>\n",
       "            \n",
       "            <tr>\n",
       "    <td style=\"text-align: left;\"><strong>Status:</strong> running</td>\n",
       "    <td style=\"text-align: left;\"><strong>Using processes:</strong> True</td>\n",
       "</tr>\n",
       "\n",
       "            \n",
       "        </table>\n",
       "\n",
       "        <details>\n",
       "            <summary style=\"margin-bottom: 20px;\">\n",
       "                <h3 style=\"display: inline;\">Scheduler Info</h3>\n",
       "            </summary>\n",
       "\n",
       "            <div style=\"\">\n",
       "    <div>\n",
       "        <div style=\"width: 24px; height: 24px; background-color: #FFF7E5; border: 3px solid #FF6132; border-radius: 5px; position: absolute;\"> </div>\n",
       "        <div style=\"margin-left: 48px;\">\n",
       "            <h3 style=\"margin-bottom: 0px;\">Scheduler</h3>\n",
       "            <p style=\"color: #9D9D9D; margin-bottom: 0px;\">Scheduler-2ed792f0-3cda-4bef-ad5f-2b449bb1a746</p>\n",
       "            <table style=\"width: 100%; text-align: left;\">\n",
       "                <tr>\n",
       "                    <td style=\"text-align: left;\">\n",
       "                        <strong>Comm:</strong> tcp://127.0.0.1:10155\n",
       "                    </td>\n",
       "                    <td style=\"text-align: left;\">\n",
       "                        <strong>Workers:</strong> 0 \n",
       "                    </td>\n",
       "                </tr>\n",
       "                <tr>\n",
       "                    <td style=\"text-align: left;\">\n",
       "                        <strong>Dashboard:</strong> <a href=\"http://127.0.0.1:10055/status\" target=\"_blank\">http://127.0.0.1:10055/status</a>\n",
       "                    </td>\n",
       "                    <td style=\"text-align: left;\">\n",
       "                        <strong>Total threads:</strong> 0\n",
       "                    </td>\n",
       "                </tr>\n",
       "                <tr>\n",
       "                    <td style=\"text-align: left;\">\n",
       "                        <strong>Started:</strong> Just now\n",
       "                    </td>\n",
       "                    <td style=\"text-align: left;\">\n",
       "                        <strong>Total memory:</strong> 0 B\n",
       "                    </td>\n",
       "                </tr>\n",
       "            </table>\n",
       "        </div>\n",
       "    </div>\n",
       "\n",
       "    <details style=\"margin-left: 48px;\">\n",
       "        <summary style=\"margin-bottom: 20px;\">\n",
       "            <h3 style=\"display: inline;\">Workers</h3>\n",
       "        </summary>\n",
       "\n",
       "        \n",
       "        <div style=\"margin-bottom: 20px;\">\n",
       "            <div style=\"width: 24px; height: 24px; background-color: #DBF5FF; border: 3px solid #4CC9FF; border-radius: 5px; position: absolute;\"> </div>\n",
       "            <div style=\"margin-left: 48px;\">\n",
       "            <details>\n",
       "                <summary>\n",
       "                    <h4 style=\"margin-bottom: 0px; display: inline;\">Worker: 0</h4>\n",
       "                </summary>\n",
       "                <table style=\"width: 100%; text-align: left;\">\n",
       "                    <tr>\n",
       "                        <td style=\"text-align: left;\">\n",
       "                            <strong>Comm: </strong> tcp://127.0.0.1:38769\n",
       "                        </td>\n",
       "                        <td style=\"text-align: left;\">\n",
       "                            <strong>Total threads: </strong> 1\n",
       "                        </td>\n",
       "                    </tr>\n",
       "                    <tr>\n",
       "                        <td style=\"text-align: left;\">\n",
       "                            <strong>Dashboard: </strong> <a href=\"http://127.0.0.1:43055/status\" target=\"_blank\">http://127.0.0.1:43055/status</a>\n",
       "                        </td>\n",
       "                        <td style=\"text-align: left;\">\n",
       "                            <strong>Memory: </strong> 2.00 GiB\n",
       "                        </td>\n",
       "                    </tr>\n",
       "                    <tr>\n",
       "                        <td style=\"text-align: left;\">\n",
       "                            <strong>Nanny: </strong> tcp://127.0.0.1:34627\n",
       "                        </td>\n",
       "                        <td style=\"text-align: left;\"></td>\n",
       "                    </tr>\n",
       "                    <tr>\n",
       "                        <td colspan=\"2\" style=\"text-align: left;\">\n",
       "                            <strong>Local directory: </strong> /tmp/dask-scratch-space/worker-jvmx27wt\n",
       "                        </td>\n",
       "                    </tr>\n",
       "\n",
       "                    \n",
       "\n",
       "                    \n",
       "\n",
       "                </table>\n",
       "            </details>\n",
       "            </div>\n",
       "        </div>\n",
       "        \n",
       "        <div style=\"margin-bottom: 20px;\">\n",
       "            <div style=\"width: 24px; height: 24px; background-color: #DBF5FF; border: 3px solid #4CC9FF; border-radius: 5px; position: absolute;\"> </div>\n",
       "            <div style=\"margin-left: 48px;\">\n",
       "            <details>\n",
       "                <summary>\n",
       "                    <h4 style=\"margin-bottom: 0px; display: inline;\">Worker: 1</h4>\n",
       "                </summary>\n",
       "                <table style=\"width: 100%; text-align: left;\">\n",
       "                    <tr>\n",
       "                        <td style=\"text-align: left;\">\n",
       "                            <strong>Comm: </strong> tcp://127.0.0.1:41283\n",
       "                        </td>\n",
       "                        <td style=\"text-align: left;\">\n",
       "                            <strong>Total threads: </strong> 1\n",
       "                        </td>\n",
       "                    </tr>\n",
       "                    <tr>\n",
       "                        <td style=\"text-align: left;\">\n",
       "                            <strong>Dashboard: </strong> <a href=\"http://127.0.0.1:35709/status\" target=\"_blank\">http://127.0.0.1:35709/status</a>\n",
       "                        </td>\n",
       "                        <td style=\"text-align: left;\">\n",
       "                            <strong>Memory: </strong> 2.00 GiB\n",
       "                        </td>\n",
       "                    </tr>\n",
       "                    <tr>\n",
       "                        <td style=\"text-align: left;\">\n",
       "                            <strong>Nanny: </strong> tcp://127.0.0.1:42911\n",
       "                        </td>\n",
       "                        <td style=\"text-align: left;\"></td>\n",
       "                    </tr>\n",
       "                    <tr>\n",
       "                        <td colspan=\"2\" style=\"text-align: left;\">\n",
       "                            <strong>Local directory: </strong> /tmp/dask-scratch-space/worker-qiutwmqc\n",
       "                        </td>\n",
       "                    </tr>\n",
       "\n",
       "                    \n",
       "\n",
       "                    \n",
       "\n",
       "                </table>\n",
       "            </details>\n",
       "            </div>\n",
       "        </div>\n",
       "        \n",
       "        <div style=\"margin-bottom: 20px;\">\n",
       "            <div style=\"width: 24px; height: 24px; background-color: #DBF5FF; border: 3px solid #4CC9FF; border-radius: 5px; position: absolute;\"> </div>\n",
       "            <div style=\"margin-left: 48px;\">\n",
       "            <details>\n",
       "                <summary>\n",
       "                    <h4 style=\"margin-bottom: 0px; display: inline;\">Worker: 2</h4>\n",
       "                </summary>\n",
       "                <table style=\"width: 100%; text-align: left;\">\n",
       "                    <tr>\n",
       "                        <td style=\"text-align: left;\">\n",
       "                            <strong>Comm: </strong> tcp://127.0.0.1:35253\n",
       "                        </td>\n",
       "                        <td style=\"text-align: left;\">\n",
       "                            <strong>Total threads: </strong> 1\n",
       "                        </td>\n",
       "                    </tr>\n",
       "                    <tr>\n",
       "                        <td style=\"text-align: left;\">\n",
       "                            <strong>Dashboard: </strong> <a href=\"http://127.0.0.1:40255/status\" target=\"_blank\">http://127.0.0.1:40255/status</a>\n",
       "                        </td>\n",
       "                        <td style=\"text-align: left;\">\n",
       "                            <strong>Memory: </strong> 2.00 GiB\n",
       "                        </td>\n",
       "                    </tr>\n",
       "                    <tr>\n",
       "                        <td style=\"text-align: left;\">\n",
       "                            <strong>Nanny: </strong> tcp://127.0.0.1:32837\n",
       "                        </td>\n",
       "                        <td style=\"text-align: left;\"></td>\n",
       "                    </tr>\n",
       "                    <tr>\n",
       "                        <td colspan=\"2\" style=\"text-align: left;\">\n",
       "                            <strong>Local directory: </strong> /tmp/dask-scratch-space/worker-h5pce297\n",
       "                        </td>\n",
       "                    </tr>\n",
       "\n",
       "                    \n",
       "\n",
       "                    \n",
       "\n",
       "                </table>\n",
       "            </details>\n",
       "            </div>\n",
       "        </div>\n",
       "        \n",
       "        <div style=\"margin-bottom: 20px;\">\n",
       "            <div style=\"width: 24px; height: 24px; background-color: #DBF5FF; border: 3px solid #4CC9FF; border-radius: 5px; position: absolute;\"> </div>\n",
       "            <div style=\"margin-left: 48px;\">\n",
       "            <details>\n",
       "                <summary>\n",
       "                    <h4 style=\"margin-bottom: 0px; display: inline;\">Worker: 3</h4>\n",
       "                </summary>\n",
       "                <table style=\"width: 100%; text-align: left;\">\n",
       "                    <tr>\n",
       "                        <td style=\"text-align: left;\">\n",
       "                            <strong>Comm: </strong> tcp://127.0.0.1:35073\n",
       "                        </td>\n",
       "                        <td style=\"text-align: left;\">\n",
       "                            <strong>Total threads: </strong> 1\n",
       "                        </td>\n",
       "                    </tr>\n",
       "                    <tr>\n",
       "                        <td style=\"text-align: left;\">\n",
       "                            <strong>Dashboard: </strong> <a href=\"http://127.0.0.1:37885/status\" target=\"_blank\">http://127.0.0.1:37885/status</a>\n",
       "                        </td>\n",
       "                        <td style=\"text-align: left;\">\n",
       "                            <strong>Memory: </strong> 2.00 GiB\n",
       "                        </td>\n",
       "                    </tr>\n",
       "                    <tr>\n",
       "                        <td style=\"text-align: left;\">\n",
       "                            <strong>Nanny: </strong> tcp://127.0.0.1:44119\n",
       "                        </td>\n",
       "                        <td style=\"text-align: left;\"></td>\n",
       "                    </tr>\n",
       "                    <tr>\n",
       "                        <td colspan=\"2\" style=\"text-align: left;\">\n",
       "                            <strong>Local directory: </strong> /tmp/dask-scratch-space/worker-stdo2lq1\n",
       "                        </td>\n",
       "                    </tr>\n",
       "\n",
       "                    \n",
       "\n",
       "                    \n",
       "\n",
       "                </table>\n",
       "            </details>\n",
       "            </div>\n",
       "        </div>\n",
       "        \n",
       "\n",
       "    </details>\n",
       "</div>\n",
       "\n",
       "        </details>\n",
       "    </div>\n",
       "</div>\n",
       "            </details>\n",
       "        \n",
       "\n",
       "    </div>\n",
       "</div>"
      ],
      "text/plain": [
       "<Client: 'tcp://127.0.0.1:10155' processes=4 threads=4, memory=8.00 GiB>"
      ]
     },
     "execution_count": 7,
     "metadata": {},
     "output_type": "execute_result"
    }
   ],
   "source": [
    "dashboard_port=int(f\"100{user_port}\")\n",
    "cluster_port=int(f\"101{user_port}\")\n",
    "\n",
    "da_cluster = LocalCluster(scheduler_port=cluster_port, dashboard_address=f\":{dashboard_port}\")\n",
    "client = Client(da_cluster)\n",
    "client"
   ]
  },
  {
   "cell_type": "code",
   "execution_count": 8,
   "id": "21fc1358-f0d7-4bc1-b9d5-2c4033c8241b",
   "metadata": {},
   "outputs": [
    {
     "name": "stdout",
     "output_type": "stream",
     "text": [
      "Use the following command to access your Dask dashboard. The cmd will create a port forwarding over SSH.\n",
      "You can then go to http://localhost:8787/status in your browser and see the dashboard.\n",
      "\n",
      "ssh -L 8787:merlin-c-113.psi.ch:10055 ext-marcin_s@merlin-l-001\n"
     ]
    }
   ],
   "source": [
    "print(\"Use the following command to access your Dask dashboard. The cmd will create a port forwarding over SSH.\")\n",
    "print(\"You can then go to http://localhost:8787/status in your browser and see the dashboard.\")\n",
    "print()\n",
    "print(f\"ssh -L 8787:{socket.gethostname()}:100{user_port} {os.environ['USER']}@merlin-l-001\")"
   ]
  },
  {
   "cell_type": "markdown",
   "id": "f148716d-152c-48a5-b900-51b618ba014e",
   "metadata": {},
   "source": [
    "![SSH](img/ssh.png)"
   ]
  },
  {
   "cell_type": "code",
   "execution_count": 9,
   "id": "c508a7d3-5ee0-4765-9ce2-2e4f7b846585",
   "metadata": {},
   "outputs": [
    {
     "name": "stdout",
     "output_type": "stream",
     "text": [
      "[<Future: pending, key: g-3eeb9f0b6992a8fadd225b4bf085f453>, <Future: pending, key: g-9887e3093f388588e49eaa7bb05a9f66>, <Future: pending, key: g-2ccca51347f94b5254ec6cea6d4aad64>, <Future: pending, key: g-a50387b1f1c4b89e0ab10a0d41366ad5>, <Future: pending, key: g-6543822f67221bd7a248e4c9d903ab10>, <Future: pending, key: g-f3526c0bfcb55c9a6fd6154d7f266eb9>, <Future: pending, key: g-0bacb39d646b208c8f506d692562c0b6>, <Future: pending, key: g-ef1e485ef022b3f3c073346bb4201290>, <Future: pending, key: g-4cf478fda1f2dc2c097abd9818887308>, <Future: pending, key: g-4e4718b6c51e396264b0342f900e9ef9>]\n",
      "[0.0, 0.7080734182735712, 0.826821810431806, 0.01991485667481699, 0.5727500169043067, 0.9195357645382262, 0.07807302063375395, 0.43163139089608316, 0.9788297401616923, 0.16984164587795994]\n"
     ]
    }
   ],
   "source": [
    "def g(x):\n",
    "    # Another example function (simulate something complicated)\n",
    "    import math\n",
    "    return math.sin(x) ** 2\n",
    "\n",
    "# Submit tasks to the Dask scheduler:\n",
    "futures = [client.submit(g, x) for x in range(10)]\n",
    "print(futures)         # list of Future objects\n",
    "\n",
    "results = client.gather(futures)  # this will block until all are done and return results\n",
    "print(results)"
   ]
  },
  {
   "cell_type": "markdown",
   "id": "0dd84244-36e4-40d1-a0f2-4d7440a455e0",
   "metadata": {},
   "source": [
    "You might wonder, what's the difference between using client.submit and dask.delayed? In practice:\n",
    "\n",
    "* dask.delayed is great for building up a task graph with dependencies within your code, then computing once at the end (it's high-level).\n",
    "* client.submit is more interactive/low-level, good for when you have a running cluster and want to fire off tasks ad-hoc (each submit is like sending a job to the scheduler).\n",
    "\n",
    "You can mix them: e.g., convert a large delayed workflow into a single future by future = client.compute(delayed_obj) instead of .compute() (this gives you a future to track the ongoing computation without blocking the Python process).\n",
    "\n",
    "For our purposes, you can use either approach. In many cases, the higher-level APIs (Dask Array, DataFrame) are even more convenient because they construct these graphs for you under the hood. But it's good to know you have this fine-grained control.\n",
    "\n",
    "#### Task 3  \n",
    "\n",
    "Re-run the earlier examples using both **Dask DataFrame** and **Dask Array**, then open the **Dask Scheduler / LocalCluster dashboard** to observe how the tasks are scheduled and executed."
   ]
  },
  {
   "cell_type": "code",
   "execution_count": 14,
   "id": "f0189d06-3ecc-473f-80aa-e2b24216ee9f",
   "metadata": {},
   "outputs": [],
   "source": [
    "# Shutdown of our LocalCluster\n",
    "client.close()\n",
    "da_cluster.close()"
   ]
  },
  {
   "cell_type": "markdown",
   "id": "bfdddf58-84e3-428a-abe1-6f66b73ff531",
   "metadata": {},
   "source": [
    "### Setting Up a Dask Cluster on an HPC (Slurm)\n",
    "\n"
   ]
  },
  {
   "cell_type": "code",
   "execution_count": 2,
   "id": "90a7815f-ebf3-4552-9892-2d21b841e54c",
   "metadata": {},
   "outputs": [
    {
     "name": "stdout",
     "output_type": "stream",
     "text": [
      "#!/usr/bin/env bash\n",
      "\n",
      "#SBATCH -J dask-worker\n",
      "#SBATCH -p hourly\n",
      "#SBATCH -n 1\n",
      "#SBATCH --cpus-per-task=4\n",
      "#SBATCH --mem=10G\n",
      "#SBATCH -t 00:30:00\n",
      "#SBATCH --reservation=sschool25\n",
      "\n",
      "/opt/psi/Programming/anaconda/2024.08/conda/envs/summer-school-hpc-2025/bin/python -m distributed.cli.dask_worker tcp://129.129.185.63:32779 --name dummy-name --nthreads 4 --memory-limit 9.31GiB --nanny --death-timeout 60\n",
      "\n"
     ]
    },
    {
     "name": "stderr",
     "output_type": "stream",
     "text": [
      "Task exception was never retrieved\n",
      "future: <Task finished name='Task-326476' coro=<Client._gather.<locals>.wait() done, defined at /opt/psi/Programming/anaconda/2024.08/conda/envs/summer-school-hpc-2025/lib/python3.12/site-packages/distributed/client.py:2385> exception=AllExit()>\n",
      "Traceback (most recent call last):\n",
      "  File \"/opt/psi/Programming/anaconda/2024.08/conda/envs/summer-school-hpc-2025/lib/python3.12/site-packages/distributed/client.py\", line 2394, in wait\n",
      "    raise AllExit()\n",
      "distributed.client.AllExit\n",
      "Task exception was never retrieved\n",
      "future: <Task finished name='Task-392809' coro=<Client._gather.<locals>.wait() done, defined at /opt/psi/Programming/anaconda/2024.08/conda/envs/summer-school-hpc-2025/lib/python3.12/site-packages/distributed/client.py:2385> exception=AllExit()>\n",
      "Traceback (most recent call last):\n",
      "  File \"/opt/psi/Programming/anaconda/2024.08/conda/envs/summer-school-hpc-2025/lib/python3.12/site-packages/distributed/client.py\", line 2394, in wait\n",
      "    raise AllExit()\n",
      "distributed.client.AllExit\n",
      "Task exception was never retrieved\n",
      "future: <Task finished name='Task-575928' coro=<Client._gather.<locals>.wait() done, defined at /opt/psi/Programming/anaconda/2024.08/conda/envs/summer-school-hpc-2025/lib/python3.12/site-packages/distributed/client.py:2385> exception=AllExit()>\n",
      "Traceback (most recent call last):\n",
      "  File \"/opt/psi/Programming/anaconda/2024.08/conda/envs/summer-school-hpc-2025/lib/python3.12/site-packages/distributed/client.py\", line 2394, in wait\n",
      "    raise AllExit()\n",
      "distributed.client.AllExit\n",
      "Task exception was never retrieved\n",
      "future: <Task finished name='Task-586663' coro=<Client._gather.<locals>.wait() done, defined at /opt/psi/Programming/anaconda/2024.08/conda/envs/summer-school-hpc-2025/lib/python3.12/site-packages/distributed/client.py:2385> exception=AllExit()>\n",
      "Traceback (most recent call last):\n",
      "  File \"/opt/psi/Programming/anaconda/2024.08/conda/envs/summer-school-hpc-2025/lib/python3.12/site-packages/distributed/client.py\", line 2394, in wait\n",
      "    raise AllExit()\n",
      "distributed.client.AllExit\n"
     ]
    }
   ],
   "source": [
    "# Configure cluster parameters:\n",
    "cluster = SLURMCluster(\n",
    "    queue='hourly',        # your Slurm partition/queue name\n",
    "    cores=4,               # total cores per job (across all processes in a job)\n",
    "    processes=1,           # how many processes per job (if 1, then 4 threads in one process in this example)\n",
    "    memory=\"10GB\",         # memory per job\n",
    "    walltime=\"00:30:00\",   # time per job\n",
    "    scheduler_options={'dashboard_address': f':100{user_port}'},\n",
    "    job_extra_directives=[\"--reservation=sschool25\"],  # (optional) extra Slurm sbatch directives, e.g., request 1 GPU per job\n",
    "    #interface=\"ib0\",\n",
    ")\n",
    "print(cluster.job_script()) "
   ]
  },
  {
   "cell_type": "markdown",
   "id": "b84c0a62-f243-4529-8f49-60d1237a0b2f",
   "metadata": {},
   "source": [
    "Now, to actually launch workers, you decide how many you want. You can do this in two ways:\n",
    "\n",
    "* Use `cluster.scale(n)` to start n worker jobs.\n",
    "* Use `cluster.adapt(minimum=m, maximum=M)` to allow the cluster to autoscale between m and M workers depending on the workload."
   ]
  },
  {
   "cell_type": "code",
   "execution_count": 29,
   "id": "5647b1e4-47d3-4791-8845-38e91aa181a8",
   "metadata": {},
   "outputs": [],
   "source": [
    "cluster.scale(2)"
   ]
  },
  {
   "cell_type": "markdown",
   "id": "7363e29a-bc5f-4993-aba4-5d5cc547fc8a",
   "metadata": {},
   "source": [
    "This will submit 2 jobs to Slurm (you should see them in the squeue if you check, named \"dask-worker\"). Each job will start a Dask worker that connects to your scheduler. By default, the scheduler is running in the same Python process where you created the cluster (i.e., in your notebook)."
   ]
  },
  {
   "cell_type": "code",
   "execution_count": 20,
   "id": "a6c65095-1cdd-4971-8ee0-c16818638f95",
   "metadata": {},
   "outputs": [
    {
     "name": "stdout",
     "output_type": "stream",
     "text": [
      "             JOBID PARTITION     NAME     USER ST       TIME  NODES NODELIST(REASON)\n",
      "          27462056   general spawner- ext-marc  R    1:02:08      1 merlin-c-113\n",
      "          27462869    hourly dask-wor ext-marc  R       0:37      1 merlin-c-224\n",
      "          27462868    hourly dask-wor ext-marc  R       0:38      1 merlin-c-211\n"
     ]
    }
   ],
   "source": [
    "!squeue -u ${USER}"
   ]
  },
  {
   "cell_type": "markdown",
   "id": "62303e5d-7384-4b30-b12a-fd8885092f63",
   "metadata": {},
   "source": [
    "Finally, connect a client to this cluster. As before, the client object in a Jupyter notebook will show a rich output with the cluster status (how many workers, etc.) and a link to the dashboard. Now the difference is those workers live on separate cluster nodes! The client is now connected to a distributed Dask cluster spanning multiple nodes."
   ]
  },
  {
   "cell_type": "code",
   "execution_count": 4,
   "id": "14f1d371-79f8-4ba8-8ac6-f9026f44806d",
   "metadata": {},
   "outputs": [
    {
     "data": {
      "text/html": [
       "<div>\n",
       "    <div style=\"width: 24px; height: 24px; background-color: #e1e1e1; border: 3px solid #9D9D9D; border-radius: 5px; position: absolute;\"> </div>\n",
       "    <div style=\"margin-left: 48px;\">\n",
       "        <h3 style=\"margin-bottom: 0px;\">Client</h3>\n",
       "        <p style=\"color: #9D9D9D; margin-bottom: 0px;\">Client-6a9a4c9e-8498-11f0-a2c0-08f1ea8fc3fa</p>\n",
       "        <table style=\"width: 100%; text-align: left;\">\n",
       "\n",
       "        <tr>\n",
       "        \n",
       "            <td style=\"text-align: left;\"><strong>Connection method:</strong> Cluster object</td>\n",
       "            <td style=\"text-align: left;\"><strong>Cluster type:</strong> dask_jobqueue.SLURMCluster</td>\n",
       "        \n",
       "        </tr>\n",
       "\n",
       "        \n",
       "            <tr>\n",
       "                <td style=\"text-align: left;\">\n",
       "                    <strong>Dashboard: </strong> <a href=\"http://129.129.185.63:10055/status\" target=\"_blank\">http://129.129.185.63:10055/status</a>\n",
       "                </td>\n",
       "                <td style=\"text-align: left;\"></td>\n",
       "            </tr>\n",
       "        \n",
       "\n",
       "        </table>\n",
       "\n",
       "        \n",
       "\n",
       "        \n",
       "            <details>\n",
       "            <summary style=\"margin-bottom: 20px;\"><h3 style=\"display: inline;\">Cluster Info</h3></summary>\n",
       "            <div class=\"jp-RenderedHTMLCommon jp-RenderedHTML jp-mod-trusted jp-OutputArea-output\">\n",
       "    <div style=\"width: 24px; height: 24px; background-color: #e1e1e1; border: 3px solid #9D9D9D; border-radius: 5px; position: absolute;\">\n",
       "    </div>\n",
       "    <div style=\"margin-left: 48px;\">\n",
       "        <h3 style=\"margin-bottom: 0px; margin-top: 0px;\">SLURMCluster</h3>\n",
       "        <p style=\"color: #9D9D9D; margin-bottom: 0px;\">07e703a5</p>\n",
       "        <table style=\"width: 100%; text-align: left;\">\n",
       "            <tr>\n",
       "                <td style=\"text-align: left;\">\n",
       "                    <strong>Dashboard:</strong> <a href=\"http://129.129.185.63:10055/status\" target=\"_blank\">http://129.129.185.63:10055/status</a>\n",
       "                </td>\n",
       "                <td style=\"text-align: left;\">\n",
       "                    <strong>Workers:</strong> 2\n",
       "                </td>\n",
       "            </tr>\n",
       "            <tr>\n",
       "                <td style=\"text-align: left;\">\n",
       "                    <strong>Total threads:</strong> 8\n",
       "                </td>\n",
       "                <td style=\"text-align: left;\">\n",
       "                    <strong>Total memory:</strong> 18.62 GiB\n",
       "                </td>\n",
       "            </tr>\n",
       "            \n",
       "        </table>\n",
       "\n",
       "        <details>\n",
       "            <summary style=\"margin-bottom: 20px;\">\n",
       "                <h3 style=\"display: inline;\">Scheduler Info</h3>\n",
       "            </summary>\n",
       "\n",
       "            <div style=\"\">\n",
       "    <div>\n",
       "        <div style=\"width: 24px; height: 24px; background-color: #FFF7E5; border: 3px solid #FF6132; border-radius: 5px; position: absolute;\"> </div>\n",
       "        <div style=\"margin-left: 48px;\">\n",
       "            <h3 style=\"margin-bottom: 0px;\">Scheduler</h3>\n",
       "            <p style=\"color: #9D9D9D; margin-bottom: 0px;\">Scheduler-dfdb02cf-0be1-4fe0-b45b-9e13e36850b1</p>\n",
       "            <table style=\"width: 100%; text-align: left;\">\n",
       "                <tr>\n",
       "                    <td style=\"text-align: left;\">\n",
       "                        <strong>Comm:</strong> tcp://129.129.185.63:32779\n",
       "                    </td>\n",
       "                    <td style=\"text-align: left;\">\n",
       "                        <strong>Workers:</strong> 0 \n",
       "                    </td>\n",
       "                </tr>\n",
       "                <tr>\n",
       "                    <td style=\"text-align: left;\">\n",
       "                        <strong>Dashboard:</strong> <a href=\"http://129.129.185.63:10055/status\" target=\"_blank\">http://129.129.185.63:10055/status</a>\n",
       "                    </td>\n",
       "                    <td style=\"text-align: left;\">\n",
       "                        <strong>Total threads:</strong> 0\n",
       "                    </td>\n",
       "                </tr>\n",
       "                <tr>\n",
       "                    <td style=\"text-align: left;\">\n",
       "                        <strong>Started:</strong> 2 minutes ago\n",
       "                    </td>\n",
       "                    <td style=\"text-align: left;\">\n",
       "                        <strong>Total memory:</strong> 0 B\n",
       "                    </td>\n",
       "                </tr>\n",
       "            </table>\n",
       "        </div>\n",
       "    </div>\n",
       "\n",
       "    <details style=\"margin-left: 48px;\">\n",
       "        <summary style=\"margin-bottom: 20px;\">\n",
       "            <h3 style=\"display: inline;\">Workers</h3>\n",
       "        </summary>\n",
       "\n",
       "        \n",
       "        <div style=\"margin-bottom: 20px;\">\n",
       "            <div style=\"width: 24px; height: 24px; background-color: #DBF5FF; border: 3px solid #4CC9FF; border-radius: 5px; position: absolute;\"> </div>\n",
       "            <div style=\"margin-left: 48px;\">\n",
       "            <details>\n",
       "                <summary>\n",
       "                    <h4 style=\"margin-bottom: 0px; display: inline;\">Worker: SLURMCluster-0</h4>\n",
       "                </summary>\n",
       "                <table style=\"width: 100%; text-align: left;\">\n",
       "                    <tr>\n",
       "                        <td style=\"text-align: left;\">\n",
       "                            <strong>Comm: </strong> tcp://129.129.185.81:34865\n",
       "                        </td>\n",
       "                        <td style=\"text-align: left;\">\n",
       "                            <strong>Total threads: </strong> 4\n",
       "                        </td>\n",
       "                    </tr>\n",
       "                    <tr>\n",
       "                        <td style=\"text-align: left;\">\n",
       "                            <strong>Dashboard: </strong> <a href=\"http://129.129.185.81:44179/status\" target=\"_blank\">http://129.129.185.81:44179/status</a>\n",
       "                        </td>\n",
       "                        <td style=\"text-align: left;\">\n",
       "                            <strong>Memory: </strong> 9.31 GiB\n",
       "                        </td>\n",
       "                    </tr>\n",
       "                    <tr>\n",
       "                        <td style=\"text-align: left;\">\n",
       "                            <strong>Nanny: </strong> tcp://129.129.185.81:40309\n",
       "                        </td>\n",
       "                        <td style=\"text-align: left;\"></td>\n",
       "                    </tr>\n",
       "                    <tr>\n",
       "                        <td colspan=\"2\" style=\"text-align: left;\">\n",
       "                            <strong>Local directory: </strong> /tmp/dask-scratch-space/worker-oly843ej\n",
       "                        </td>\n",
       "                    </tr>\n",
       "\n",
       "                    \n",
       "\n",
       "                    \n",
       "\n",
       "                </table>\n",
       "            </details>\n",
       "            </div>\n",
       "        </div>\n",
       "        \n",
       "        <div style=\"margin-bottom: 20px;\">\n",
       "            <div style=\"width: 24px; height: 24px; background-color: #DBF5FF; border: 3px solid #4CC9FF; border-radius: 5px; position: absolute;\"> </div>\n",
       "            <div style=\"margin-left: 48px;\">\n",
       "            <details>\n",
       "                <summary>\n",
       "                    <h4 style=\"margin-bottom: 0px; display: inline;\">Worker: SLURMCluster-1</h4>\n",
       "                </summary>\n",
       "                <table style=\"width: 100%; text-align: left;\">\n",
       "                    <tr>\n",
       "                        <td style=\"text-align: left;\">\n",
       "                            <strong>Comm: </strong> tcp://129.129.185.82:42689\n",
       "                        </td>\n",
       "                        <td style=\"text-align: left;\">\n",
       "                            <strong>Total threads: </strong> 4\n",
       "                        </td>\n",
       "                    </tr>\n",
       "                    <tr>\n",
       "                        <td style=\"text-align: left;\">\n",
       "                            <strong>Dashboard: </strong> <a href=\"http://129.129.185.82:34811/status\" target=\"_blank\">http://129.129.185.82:34811/status</a>\n",
       "                        </td>\n",
       "                        <td style=\"text-align: left;\">\n",
       "                            <strong>Memory: </strong> 9.31 GiB\n",
       "                        </td>\n",
       "                    </tr>\n",
       "                    <tr>\n",
       "                        <td style=\"text-align: left;\">\n",
       "                            <strong>Nanny: </strong> tcp://129.129.185.82:38031\n",
       "                        </td>\n",
       "                        <td style=\"text-align: left;\"></td>\n",
       "                    </tr>\n",
       "                    <tr>\n",
       "                        <td colspan=\"2\" style=\"text-align: left;\">\n",
       "                            <strong>Local directory: </strong> /tmp/dask-scratch-space/worker-vdw65wq1\n",
       "                        </td>\n",
       "                    </tr>\n",
       "\n",
       "                    \n",
       "\n",
       "                    \n",
       "\n",
       "                </table>\n",
       "            </details>\n",
       "            </div>\n",
       "        </div>\n",
       "        \n",
       "\n",
       "    </details>\n",
       "</div>\n",
       "\n",
       "        </details>\n",
       "    </div>\n",
       "</div>\n",
       "            </details>\n",
       "        \n",
       "\n",
       "    </div>\n",
       "</div>"
      ],
      "text/plain": [
       "<Client: 'tcp://129.129.185.63:32779' processes=2 threads=8, memory=18.62 GiB>"
      ]
     },
     "execution_count": 4,
     "metadata": {},
     "output_type": "execute_result"
    }
   ],
   "source": [
    "client = Client(cluster)\n",
    "client"
   ]
  },
  {
   "cell_type": "code",
   "execution_count": 6,
   "id": "fbae16cf-65f5-407d-8e85-c9cd7a796084",
   "metadata": {},
   "outputs": [
    {
     "name": "stdout",
     "output_type": "stream",
     "text": [
      "CPU times: user 1.32 s, sys: 120 ms, total: 1.44 s\n",
      "Wall time: 37.7 s\n",
      "100007316.28137685\n"
     ]
    }
   ],
   "source": [
    "# Give it a try and check out the dashboard\n",
    "x = da.random.random((10000, 10000), chunks=(1000, 1000))\n",
    "y = x + x.T\n",
    "%time total = y.sum().compute()\n",
    "print(total)"
   ]
  },
  {
   "cell_type": "markdown",
   "id": "7fb7c7d9-fa90-4160-acec-740505b8f077",
   "metadata": {},
   "source": [
    "How it works under the hood: When you call SLURMCluster(...), Dask-jobqueue actually creates a specification for the worker jobs. When you scale up, it uses Slurm (via sbatch or srun under the hood) to submit those jobs. Each job runs the dask-worker command to start a worker that connects back to your central scheduler. The scheduler is running in your notebook process (or a separate job if you choose, but in our case, it's on the login node). This pattern of one job for the scheduler + multiple jobs for workers is sometimes called a dynamic cluster deployment. It's great for interactive and exploratory work since you can quickly get workers and release them.\n",
    "\n",
    "Another pattern (not covered in depth here) is a batch cluster deployment where you submit the entire Dask cluster (scheduler + workers + your script) as one big batch job (using dask-mpi or SLURMRunner). That is more static and suitable for a single large batch workload. In this tutorial, we focus on the dynamic approach because it's more flexible for a workshop setting."
   ]
  },
  {
   "cell_type": "code",
   "execution_count": 21,
   "id": "8832a337-7c68-4123-ae68-603f055090b4",
   "metadata": {},
   "outputs": [
    {
     "name": "stdout",
     "output_type": "stream",
     "text": [
      "Computing pi with Dask distributed...\n",
      "Estimated π = 3.1416852000000004\n"
     ]
    }
   ],
   "source": [
    "@numba.njit\n",
    "def count_inside(n):\n",
    "    \"\"\"Return number of points inside quarter circle out of n random points.\"\"\"\n",
    "    in_count = 0\n",
    "    for i in range(n):\n",
    "        x = random.random()\n",
    "        y = random.random()\n",
    "        if x*x + y*y <= 1.0:\n",
    "            in_count += 1\n",
    "    return in_count\n",
    "\n",
    "# Now define a function to estimate pi with n points (monte carlo)\n",
    "def estimate_pi(n):\n",
    "    inside = count_inside(n)\n",
    "    return 4.0 * inside / n\n",
    "\n",
    "# We will run this function multiple times in parallel\n",
    "trials = 20\n",
    "points_per_trial = 10_000_000\n",
    "tasks = [dask.delayed(estimate_pi)(points_per_trial) for _ in range(trials)]\n",
    "avg_pi = (sum(tasks) / len(tasks)).persist()  # start the computation asynchronously\n",
    "print(\"Computing pi with Dask distributed...\")\n",
    "pi_estimate = avg_pi.compute()\n",
    "print(\"Estimated π =\", pi_estimate)"
   ]
  },
  {
   "cell_type": "markdown",
   "id": "cb8ce530-4ca4-472a-8196-6e8b01231201",
   "metadata": {},
   "source": [
    "A few things happening:\n",
    "\n",
    "* We decorated the inner function with Numba `@njit` to make each trial faster (otherwise pure Python random in a loop would be slow).\n",
    "* We use delayed to create trials number of tasks, each calling estimate_pi(points_per_trial).\n",
    "* We then take the average of the results as another Dask task. Actually, we could have let Dask do the sum in parallel too. Here for simplicity, we sum the delayed objects (which makes a new delayed object) and divide by `len(tasks)`.\n",
    "* We call `.persist()` on the final result instead of `.compute()` initially. `.persist()` will submit all tasks to the cluster and return a Dask collection that is actively computing (non-lazy). We then print a message and eventually call `.compute()` to get the final value. We could also just do `.compute()` straight away; persist is used here to possibly overlap with any other work (not strictly necessary).\n",
    "* When you run this on the cluster with multiple workers, each worker should take on one or more of the trials. If you have 4 workers and 20 tasks, each might do 5 trials.\n",
    "* Check the dashboard (particularly the \"Progress\" or \"Graph\" plots) to visualize all these tasks running."
   ]
  },
  {
   "cell_type": "markdown",
   "id": "24254840-3cfa-4a43-8025-42d2535d316c",
   "metadata": {},
   "source": [
    "#### Task 4 Adjust the Monte Carlo π estimation to:\n",
    "* Not use Numba and see the effect (likely slower) or use NumPy only.\n",
    "* Use more points per trial vs more trials – which is more effective to improve accuracy? Which is more pleasant for Dask (lots of small tasks vs fewer heavy tasks)?\n",
    "* Push the cluster. Use `cluster.scale()` to scale up your workers. How many total samples can you generate per second with Dask?"
   ]
  },
  {
   "cell_type": "code",
   "execution_count": null,
   "id": "4517add6-3885-42a3-bccb-4623f9da4fa5",
   "metadata": {},
   "outputs": [],
   "source": [
    "#ToDo"
   ]
  },
  {
   "cell_type": "markdown",
   "id": "b84e2eef-a992-4723-93d7-a2382b2c88da",
   "metadata": {},
   "source": [
    "Another example: Large Array Computation (e.g., matrix operations)\n",
    "\n",
    "Suppose we have to perform some linear algebra on very large matrices that do not fit in one node's memory. For instance, multiplying a 50k x 50k matrix with its transpose. A 50k x 50k matrix has 2.5 billion entries, which is way too many to actually materialize – this is just for illustration (actual memory would be tens of GBs). But we can do a smaller size that is still large, and use Dask's distributed memory.\n",
    "\n",
    "Let's do a covariance-like computation on a large simulated dataset: say we have 100k samples of 1000 features, and we want to compute the covariance matrix (1000x1000). This involves an outer product of a (100k x 1000) matrix with its transpose (1000 x 100k). The result is 1000x1000, which is fine, but the intermediate multiplies are heavy.\n",
    "\n",
    "We'll simulate this and use Dask:"
   ]
  },
  {
   "cell_type": "code",
   "execution_count": 22,
   "id": "eab699d4-e19a-4359-9650-8e2fb4d8ff1e",
   "metadata": {},
   "outputs": [
    {
     "name": "stdout",
     "output_type": "stream",
     "text": [
      "dask.array<random_sample, shape=(100000, 1000), dtype=float64, chunksize=(10000, 1000), chunktype=numpy.ndarray>\n",
      "CPU times: user 1.03 s, sys: 97.5 ms, total: 1.13 s\n",
      "Wall time: 29.5 s\n",
      "(1000, 1000)\n"
     ]
    }
   ],
   "source": [
    "# Simulate 100k x 1000 array of data in Dask (split by rows among workers)\n",
    "samples = 100_000\n",
    "features = 1000\n",
    "# We'll chunk the rows so that each chunk maybe has 10k rows (so 10 chunks of shape 10k x 1000)\n",
    "data = da.random.random(size=(samples, features), chunks=(10_000, features))\n",
    "print(data)\n",
    "\n",
    "# Compute covariance matrix = data^T @ data (assuming mean ~ 0 for simplicity)\n",
    "cov = data.T.dot(data)  # 1000x1000 result, but this is a large operation under the hood\n",
    "%time cov_result = cov.compute()\n",
    "print(cov_result.shape)"
   ]
  },
  {
   "cell_type": "markdown",
   "id": "ebe9e279-eb57-42db-8bdb-c7fa41d448c0",
   "metadata": {},
   "source": [
    "### Loading Data Efficiently with Dask  \n",
    "\n",
    "Up to this point, we’ve mostly worked with toy examples where we created data in memory (e.g. with NumPy) and then wrapped it in a Dask array.  \n",
    "This approach works for small arrays, but it becomes inefficient for larger data. "
   ]
  },
  {
   "cell_type": "code",
   "execution_count": 24,
   "id": "3dc9133a-2b25-4296-b972-a38031468977",
   "metadata": {},
   "outputs": [
    {
     "name": "stdout",
     "output_type": "stream",
     "text": [
      "0.4999871025756871\n"
     ]
    },
    {
     "name": "stderr",
     "output_type": "stream",
     "text": [
      "/opt/psi/Programming/anaconda/2024.08/conda/envs/summer-school-hpc-2025/lib/python3.12/site-packages/distributed/client.py:3371: UserWarning: Sending large graph of size 76.30 MiB.\n",
      "This may cause some slowdown.\n",
      "Consider loading the data with Dask directly\n",
      " or using futures or delayed objects to embed the data into the graph without repetition.\n",
      "See also https://docs.dask.org/en/stable/best-practices.html#load-data-with-dask for more information.\n",
      "  warnings.warn(\n"
     ]
    }
   ],
   "source": [
    "# Create a Dask array from the NumPy array, dividing it into chunks\n",
    "N = 10_000_000\n",
    "np_array = np.random.random(N)\n",
    "chunk_size = 1_000_000\n",
    "da_array = da.from_array(np_array, chunks=chunk_size)\n",
    "da_mean = da_array.mean().compute()  # triggers computation\n",
    "print(da_mean)"
   ]
  },
  {
   "cell_type": "markdown",
   "id": "58ff5498-14f9-4c70-8b6b-984fcd195f4f",
   "metadata": {},
   "source": [
    "Why does this happen?\n",
    "When you pass an existing NumPy array into Dask (from_array), the full data object has to be communicated through the Dask scheduler.\n",
    "This is fine for small arrays, but for truly large data it becomes a bottleneck. Ideally, the scheduler should only coordinate tasks, not shuffle gigabytes of raw data.\n",
    "\n",
    "Best practice: Load the data directly with Dask (or libraries that support chunked storage) so that the data lives on disk and Dask only reads the necessary pieces on each worker.\n",
    "\n",
    "For example, we can store a large dataset in an HDF5 file with chunking enabled:"
   ]
  },
  {
   "cell_type": "code",
   "execution_count": 30,
   "id": "d23995d1-a646-4f1d-9db9-7621de713c27",
   "metadata": {},
   "outputs": [],
   "source": [
    "N = 100_000_000\n",
    "arr = np.random.random(N)\n",
    "\n",
    "with h5py.File(f\"/shared-scratch/hpcp/tmp/{os.environ[\"USER\"]}_chunked.h5\", \"w\") as f:\n",
    "    dset = f.create_dataset(\n",
    "        \"100M_array\",\n",
    "        data=arr,\n",
    "        chunks=(10000),      # each chunk is 1000\n",
    "        compression=\"gzip\"   # compress the data\n",
    "    )"
   ]
  },
  {
   "cell_type": "markdown",
   "id": "62d8801d-2ac9-4236-93ca-8f9c5adf7f0b",
   "metadata": {},
   "source": [
    "Later, instead of sending the full arr through the scheduler, we let Dask map to this on-disk dataset (using `da.from_array()`).\n",
    "This way, each worker will load only the chunks it needs, avoiding unnecessary data transfer and making the computation far more scalable."
   ]
  },
  {
   "cell_type": "code",
   "execution_count": 32,
   "id": "860a4c8e-b493-46b2-9895-cfe7261bd2c2",
   "metadata": {},
   "outputs": [
    {
     "data": {
      "text/plain": [
       "np.float64(0.499992358777124)"
      ]
     },
     "execution_count": 32,
     "metadata": {},
     "output_type": "execute_result"
    }
   ],
   "source": [
    "f = h5py.File(f\"/shared-scratch/hpcp/tmp/{os.environ[\"USER\"]}_chunked.h5\")\n",
    "x = da.from_array(f[\"100M_array\"])\n",
    "x.mean().compute()"
   ]
  },
  {
   "cell_type": "markdown",
   "id": "f17d2081-5bc0-45d3-a40b-4ed736549521",
   "metadata": {},
   "source": [
    "#### Task 5\n",
    "Efficient **chunking strategies** are critical for performance.  \n",
    "Experiment with different chunk sizes across the examples in this notebook.  \n",
    "Try scaling the cluster up and down, and also test **adaptive scaling** with `cluster.adapt(minimum=m, maximum=M)`.\n",
    "\n",
    "The goal: build hands-on experience and develop an intuition for how Dask executes computations."
   ]
  },
  {
   "cell_type": "code",
   "execution_count": null,
   "id": "2fcbbc7d-95e6-471b-8bd0-e68857752825",
   "metadata": {},
   "outputs": [],
   "source": []
  },
  {
   "cell_type": "markdown",
   "id": "30abe1d8-d867-4abd-a761-c6fce915d1d4",
   "metadata": {},
   "source": [
    "When you’re done, remember to **shut down the cluster** to free resources:"
   ]
  },
  {
   "cell_type": "code",
   "execution_count": 33,
   "id": "543c33d7-2d5d-4a4e-b384-3a8f8d07e8ba",
   "metadata": {},
   "outputs": [],
   "source": [
    "client.close()\n",
    "cluster.close()"
   ]
  },
  {
   "cell_type": "code",
   "execution_count": 34,
   "id": "f401c685-aef1-4436-ac05-801a80cd42fa",
   "metadata": {},
   "outputs": [
    {
     "name": "stdout",
     "output_type": "stream",
     "text": [
      "\n"
     ]
    }
   ],
   "source": []
  }
 ],
 "metadata": {
  "kernelspec": {
   "display_name": "Python [conda env:summer-school-hpc-2025]",
   "language": "python",
   "name": "conda-env-summer-school-hpc-2025-py"
  },
  "language_info": {
   "codemirror_mode": {
    "name": "ipython",
    "version": 3
   },
   "file_extension": ".py",
   "mimetype": "text/x-python",
   "name": "python",
   "nbconvert_exporter": "python",
   "pygments_lexer": "ipython3",
   "version": "3.12.11"
  }
 },
 "nbformat": 4,
 "nbformat_minor": 5
}
