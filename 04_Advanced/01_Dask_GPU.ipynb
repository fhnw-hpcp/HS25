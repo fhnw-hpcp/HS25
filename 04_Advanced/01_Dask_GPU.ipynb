{
 "cells": [
  {
   "cell_type": "markdown",
   "id": "686efb73-c350-46e4-95fb-7f56d7885961",
   "metadata": {},
   "source": [
    "![Dask Slide](img/HPCP_Dask/Folie5.PNG)"
   ]
  },
  {
   "cell_type": "code",
   "execution_count": 29,
   "id": "c56a8761-df12-4287-a32d-9f8598be5b4e",
   "metadata": {},
   "outputs": [],
   "source": [
    "import os\n",
    "import socket\n",
    "\n",
    "import cupy\n",
    "import dask\n",
    "import dask.array as da\n",
    "from dask.distributed import Client\n",
    "from dask_cuda import LocalCUDACluster\n",
    "from dask_jobqueue import SLURMCluster\n",
    "\n",
    "try:\n",
    "    user_port = int(os.environ[\"USER\"][-2:])\n",
    "except ValueError:\n",
    "    user_port = 55"
   ]
  },
  {
   "cell_type": "markdown",
   "id": "aec43b54-3c7f-498b-bc9f-e9fd5493f515",
   "metadata": {},
   "source": [
    "Check if we have a GPU. \n",
    "\n",
    "**Note**: This notebook needs to be started on either the FHNW Jupyter which is GPU enabled by default or using the gmerlin cluster at PSI."
   ]
  },
  {
   "cell_type": "code",
   "execution_count": 3,
   "id": "5e837129-b77c-4052-aa76-c7f4e8f83b1b",
   "metadata": {},
   "outputs": [
    {
     "name": "stdout",
     "output_type": "stream",
     "text": [
      "Fri Aug 29 10:17:57 2025       \n",
      "+-----------------------------------------------------------------------------------------+\n",
      "| NVIDIA-SMI 550.127.08             Driver Version: 550.127.08     CUDA Version: 12.4     |\n",
      "|-----------------------------------------+------------------------+----------------------+\n",
      "| GPU  Name                 Persistence-M | Bus-Id          Disp.A | Volatile Uncorr. ECC |\n",
      "| Fan  Temp   Perf          Pwr:Usage/Cap |           Memory-Usage | GPU-Util  Compute M. |\n",
      "|                                         |                        |               MIG M. |\n",
      "|=========================================+========================+======================|\n",
      "|   0  NVIDIA GeForce RTX 2080 Ti     On  |   00000000:B1:00.0 Off |                  N/A |\n",
      "| 27%   28C    P8             17W /  250W |       1MiB /  11264MiB |      0%      Default |\n",
      "|                                         |                        |                  N/A |\n",
      "+-----------------------------------------+------------------------+----------------------+\n",
      "|   1  NVIDIA GeForce RTX 2080 Ti     On  |   00000000:DB:00.0 Off |                  N/A |\n",
      "| 27%   29C    P8              1W /  250W |       1MiB /  11264MiB |      0%      Default |\n",
      "|                                         |                        |                  N/A |\n",
      "+-----------------------------------------+------------------------+----------------------+\n",
      "                                                                                         \n",
      "+-----------------------------------------------------------------------------------------+\n",
      "| Processes:                                                                              |\n",
      "|  GPU   GI   CI        PID   Type   Process name                              GPU Memory |\n",
      "|        ID   ID                                                               Usage      |\n",
      "|=========================================================================================|\n",
      "|  No running processes found                                                             |\n",
      "+-----------------------------------------------------------------------------------------+\n"
     ]
    }
   ],
   "source": [
    "!nvidia-smi"
   ]
  },
  {
   "cell_type": "markdown",
   "id": "05657ccd-70ea-446e-b0cf-a50fe49f2b22",
   "metadata": {},
   "source": [
    "If running on a GPU enabled host, you can use Dask without initzializing a cluster, like we did in the CPU example first.\n",
    "By setting array.backend to \"cupy\", Dask will use cupy.random to create the random array and many operations will happen on the GPU. The computation is executed with the same .compute(). If you have one GPU, this will utilize that GPU . If you're on a node with multiple GPUs or multiple nodes with GPUs, you can run multiple tasks on different GPUs."
   ]
  },
  {
   "cell_type": "code",
   "execution_count": 11,
   "id": "8ffb1c31-ae99-4eae-893f-42bbb8707050",
   "metadata": {},
   "outputs": [
    {
     "name": "stdout",
     "output_type": "stream",
     "text": [
      "CPU times: user 7.4 s, sys: 338 ms, total: 7.74 s\n",
      "Wall time: 7.29 s\n",
      "9999940795.323856\n"
     ]
    }
   ],
   "source": [
    "# Create a Dask array backed by CuPy arrays instead of NumPy\n",
    "with dask.config.set({\"array.backend\": \"cupy\"}):\n",
    "    x_gpu = da.random.random((100000, 100000), chunks=(1000, 1000))\n",
    "    y_gpu = (x_gpu + x_gpu.T).sum()\n",
    "    %time result_gpu = y_gpu.compute()\n",
    "    print(result_gpu)"
   ]
  },
  {
   "cell_type": "markdown",
   "id": "783a9200-98a9-43f5-88b7-e2104d73c747",
   "metadata": {},
   "source": [
    "#### Task 1\n",
    "\n",
    "You can also convert an existing Dask array (CPU) to GPU by `.map_blocks(cupy.asarray)`, which applies cupy.asarray to each block, thus transferring it to GPU memory. Or when loading data, you could directly load into CuPy arrays. Try out both approaches."
   ]
  },
  {
   "cell_type": "code",
   "execution_count": null,
   "id": "c7369349-4ecb-4c72-88f6-fa886d21a5e2",
   "metadata": {},
   "outputs": [],
   "source": [
    "#ToDo"
   ]
  },
  {
   "cell_type": "markdown",
   "id": "28c859bd-9791-4cd6-b0e5-5eb61fe6619c",
   "metadata": {},
   "source": [
    "You maybe noticed that the above example only uses 1 out of multiple GPUs. In order to use more than 1 GPU, we have to srat a LocalCUDACluster. "
   ]
  },
  {
   "cell_type": "code",
   "execution_count": 21,
   "id": "40e894d8-9d57-463f-a3e1-4adb8b5658c5",
   "metadata": {},
   "outputs": [
    {
     "data": {
      "text/html": [
       "<div>\n",
       "    <div style=\"width: 24px; height: 24px; background-color: #e1e1e1; border: 3px solid #9D9D9D; border-radius: 5px; position: absolute;\"> </div>\n",
       "    <div style=\"margin-left: 48px;\">\n",
       "        <h3 style=\"margin-bottom: 0px;\">Client</h3>\n",
       "        <p style=\"color: #9D9D9D; margin-bottom: 0px;\">Client-164a4a12-84b3-11f0-8112-18c04d06dec7</p>\n",
       "        <table style=\"width: 100%; text-align: left;\">\n",
       "\n",
       "        <tr>\n",
       "        \n",
       "            <td style=\"text-align: left;\"><strong>Connection method:</strong> Cluster object</td>\n",
       "            <td style=\"text-align: left;\"><strong>Cluster type:</strong> dask_cuda.LocalCUDACluster</td>\n",
       "        \n",
       "        </tr>\n",
       "\n",
       "        \n",
       "            <tr>\n",
       "                <td style=\"text-align: left;\">\n",
       "                    <strong>Dashboard: </strong> <a href=\"http://127.0.0.1:10055/status\" target=\"_blank\">http://127.0.0.1:10055/status</a>\n",
       "                </td>\n",
       "                <td style=\"text-align: left;\"></td>\n",
       "            </tr>\n",
       "        \n",
       "\n",
       "        </table>\n",
       "\n",
       "        \n",
       "\n",
       "        \n",
       "            <details>\n",
       "            <summary style=\"margin-bottom: 20px;\"><h3 style=\"display: inline;\">Cluster Info</h3></summary>\n",
       "            <div class=\"jp-RenderedHTMLCommon jp-RenderedHTML jp-mod-trusted jp-OutputArea-output\">\n",
       "    <div style=\"width: 24px; height: 24px; background-color: #e1e1e1; border: 3px solid #9D9D9D; border-radius: 5px; position: absolute;\">\n",
       "    </div>\n",
       "    <div style=\"margin-left: 48px;\">\n",
       "        <h3 style=\"margin-bottom: 0px; margin-top: 0px;\">LocalCUDACluster</h3>\n",
       "        <p style=\"color: #9D9D9D; margin-bottom: 0px;\">77dce470</p>\n",
       "        <table style=\"width: 100%; text-align: left;\">\n",
       "            <tr>\n",
       "                <td style=\"text-align: left;\">\n",
       "                    <strong>Dashboard:</strong> <a href=\"http://127.0.0.1:10055/status\" target=\"_blank\">http://127.0.0.1:10055/status</a>\n",
       "                </td>\n",
       "                <td style=\"text-align: left;\">\n",
       "                    <strong>Workers:</strong> 2\n",
       "                </td>\n",
       "            </tr>\n",
       "            <tr>\n",
       "                <td style=\"text-align: left;\">\n",
       "                    <strong>Total threads:</strong> 2\n",
       "                </td>\n",
       "                <td style=\"text-align: left;\">\n",
       "                    <strong>Total memory:</strong> 16.00 GiB\n",
       "                </td>\n",
       "            </tr>\n",
       "            \n",
       "            <tr>\n",
       "    <td style=\"text-align: left;\"><strong>Status:</strong> running</td>\n",
       "    <td style=\"text-align: left;\"><strong>Using processes:</strong> True</td>\n",
       "</tr>\n",
       "\n",
       "            \n",
       "        </table>\n",
       "\n",
       "        <details>\n",
       "            <summary style=\"margin-bottom: 20px;\">\n",
       "                <h3 style=\"display: inline;\">Scheduler Info</h3>\n",
       "            </summary>\n",
       "\n",
       "            <div style=\"\">\n",
       "    <div>\n",
       "        <div style=\"width: 24px; height: 24px; background-color: #FFF7E5; border: 3px solid #FF6132; border-radius: 5px; position: absolute;\"> </div>\n",
       "        <div style=\"margin-left: 48px;\">\n",
       "            <h3 style=\"margin-bottom: 0px;\">Scheduler</h3>\n",
       "            <p style=\"color: #9D9D9D; margin-bottom: 0px;\">Scheduler-8d2b38fd-de70-4087-8fa9-6cd721acc063</p>\n",
       "            <table style=\"width: 100%; text-align: left;\">\n",
       "                <tr>\n",
       "                    <td style=\"text-align: left;\">\n",
       "                        <strong>Comm:</strong> tcp://127.0.0.1:10155\n",
       "                    </td>\n",
       "                    <td style=\"text-align: left;\">\n",
       "                        <strong>Workers:</strong> 0 \n",
       "                    </td>\n",
       "                </tr>\n",
       "                <tr>\n",
       "                    <td style=\"text-align: left;\">\n",
       "                        <strong>Dashboard:</strong> <a href=\"http://127.0.0.1:10055/status\" target=\"_blank\">http://127.0.0.1:10055/status</a>\n",
       "                    </td>\n",
       "                    <td style=\"text-align: left;\">\n",
       "                        <strong>Total threads:</strong> 0\n",
       "                    </td>\n",
       "                </tr>\n",
       "                <tr>\n",
       "                    <td style=\"text-align: left;\">\n",
       "                        <strong>Started:</strong> Just now\n",
       "                    </td>\n",
       "                    <td style=\"text-align: left;\">\n",
       "                        <strong>Total memory:</strong> 0 B\n",
       "                    </td>\n",
       "                </tr>\n",
       "            </table>\n",
       "        </div>\n",
       "    </div>\n",
       "\n",
       "    <details style=\"margin-left: 48px;\">\n",
       "        <summary style=\"margin-bottom: 20px;\">\n",
       "            <h3 style=\"display: inline;\">Workers</h3>\n",
       "        </summary>\n",
       "\n",
       "        \n",
       "        <div style=\"margin-bottom: 20px;\">\n",
       "            <div style=\"width: 24px; height: 24px; background-color: #DBF5FF; border: 3px solid #4CC9FF; border-radius: 5px; position: absolute;\"> </div>\n",
       "            <div style=\"margin-left: 48px;\">\n",
       "            <details>\n",
       "                <summary>\n",
       "                    <h4 style=\"margin-bottom: 0px; display: inline;\">Worker: 0</h4>\n",
       "                </summary>\n",
       "                <table style=\"width: 100%; text-align: left;\">\n",
       "                    <tr>\n",
       "                        <td style=\"text-align: left;\">\n",
       "                            <strong>Comm: </strong> tcp://127.0.0.1:33289\n",
       "                        </td>\n",
       "                        <td style=\"text-align: left;\">\n",
       "                            <strong>Total threads: </strong> 1\n",
       "                        </td>\n",
       "                    </tr>\n",
       "                    <tr>\n",
       "                        <td style=\"text-align: left;\">\n",
       "                            <strong>Dashboard: </strong> <a href=\"http://127.0.0.1:35103/status\" target=\"_blank\">http://127.0.0.1:35103/status</a>\n",
       "                        </td>\n",
       "                        <td style=\"text-align: left;\">\n",
       "                            <strong>Memory: </strong> 8.00 GiB\n",
       "                        </td>\n",
       "                    </tr>\n",
       "                    <tr>\n",
       "                        <td style=\"text-align: left;\">\n",
       "                            <strong>Nanny: </strong> tcp://127.0.0.1:36375\n",
       "                        </td>\n",
       "                        <td style=\"text-align: left;\"></td>\n",
       "                    </tr>\n",
       "                    <tr>\n",
       "                        <td colspan=\"2\" style=\"text-align: left;\">\n",
       "                            <strong>Local directory: </strong> /tmp/dask-scratch-space/worker-7e1_swvi\n",
       "                        </td>\n",
       "                    </tr>\n",
       "\n",
       "                    \n",
       "\n",
       "                    \n",
       "\n",
       "                </table>\n",
       "            </details>\n",
       "            </div>\n",
       "        </div>\n",
       "        \n",
       "        <div style=\"margin-bottom: 20px;\">\n",
       "            <div style=\"width: 24px; height: 24px; background-color: #DBF5FF; border: 3px solid #4CC9FF; border-radius: 5px; position: absolute;\"> </div>\n",
       "            <div style=\"margin-left: 48px;\">\n",
       "            <details>\n",
       "                <summary>\n",
       "                    <h4 style=\"margin-bottom: 0px; display: inline;\">Worker: 1</h4>\n",
       "                </summary>\n",
       "                <table style=\"width: 100%; text-align: left;\">\n",
       "                    <tr>\n",
       "                        <td style=\"text-align: left;\">\n",
       "                            <strong>Comm: </strong> tcp://127.0.0.1:34065\n",
       "                        </td>\n",
       "                        <td style=\"text-align: left;\">\n",
       "                            <strong>Total threads: </strong> 1\n",
       "                        </td>\n",
       "                    </tr>\n",
       "                    <tr>\n",
       "                        <td style=\"text-align: left;\">\n",
       "                            <strong>Dashboard: </strong> <a href=\"http://127.0.0.1:42493/status\" target=\"_blank\">http://127.0.0.1:42493/status</a>\n",
       "                        </td>\n",
       "                        <td style=\"text-align: left;\">\n",
       "                            <strong>Memory: </strong> 8.00 GiB\n",
       "                        </td>\n",
       "                    </tr>\n",
       "                    <tr>\n",
       "                        <td style=\"text-align: left;\">\n",
       "                            <strong>Nanny: </strong> tcp://127.0.0.1:33159\n",
       "                        </td>\n",
       "                        <td style=\"text-align: left;\"></td>\n",
       "                    </tr>\n",
       "                    <tr>\n",
       "                        <td colspan=\"2\" style=\"text-align: left;\">\n",
       "                            <strong>Local directory: </strong> /tmp/dask-scratch-space/worker-uoql2lb6\n",
       "                        </td>\n",
       "                    </tr>\n",
       "\n",
       "                    \n",
       "\n",
       "                    \n",
       "\n",
       "                </table>\n",
       "            </details>\n",
       "            </div>\n",
       "        </div>\n",
       "        \n",
       "\n",
       "    </details>\n",
       "</div>\n",
       "\n",
       "        </details>\n",
       "    </div>\n",
       "</div>\n",
       "            </details>\n",
       "        \n",
       "\n",
       "    </div>\n",
       "</div>"
      ],
      "text/plain": [
       "<Client: 'tcp://127.0.0.1:10155' processes=2 threads=2, memory=16.00 GiB>"
      ]
     },
     "execution_count": 21,
     "metadata": {},
     "output_type": "execute_result"
    }
   ],
   "source": [
    "# One worker per visible GPU, each pinned automatically\n",
    "dashboard_port=int(f\"100{user_port}\")\n",
    "cluster_port=int(f\"101{user_port}\")\n",
    "\n",
    "cluster = LocalCUDACluster(\n",
    "    n_workers=2,           # or omit: defaults to # GPUs\n",
    "    threads_per_worker=1,  # avoid CPU thread contention on GPU\n",
    "    scheduler_port=cluster_port,\n",
    "    dashboard_address=f\":{dashboard_port}\"\n",
    ")\n",
    "client = Client(cluster)\n",
    "client"
   ]
  },
  {
   "cell_type": "code",
   "execution_count": 24,
   "id": "caea7d33-18c2-4610-96f1-657cf521b9d8",
   "metadata": {},
   "outputs": [
    {
     "name": "stdout",
     "output_type": "stream",
     "text": [
      "Use the following command to access your Dask dashboard. The cmd will create a port forwarding over SSH.\n",
      "You can then go to http://localhost:8787/status in your browser and see the dashboard.\n",
      "\n",
      "ssh -L 8787:merlin-g-014.psi.ch:10055 ext-marcin_s@merlin-l-001\n"
     ]
    }
   ],
   "source": [
    "print(\"Use the following command to access your Dask dashboard. The cmd will create a port forwarding over SSH.\")\n",
    "print(\"You can then go to http://localhost:8787/status in your browser and see the dashboard.\")\n",
    "print()\n",
    "print(f\"ssh -L 8787:{socket.gethostname()}:100{user_port} {os.environ['USER']}@merlin-l-001\")"
   ]
  },
  {
   "cell_type": "markdown",
   "id": "eec3ca97-86f4-47f1-b285-d95b19b7bc40",
   "metadata": {},
   "source": [
    "![SSH](img/ssh.png)"
   ]
  },
  {
   "cell_type": "markdown",
   "id": "347aa1fa-7f68-40b7-956d-616cece5d74a",
   "metadata": {},
   "source": [
    "Let us rerun the example from above and run nvidia-smi on the console to check if we really use two GPUS.\n",
    "\n",
    "```bash\n",
    "nvidia-smi\n",
    "Fri Aug 29 10:31:13 2025       \n",
    "+-----------------------------------------------------------------------------------------+\n",
    "| NVIDIA-SMI 550.127.08             Driver Version: 550.127.08     CUDA Version: 12.4     |\n",
    "|-----------------------------------------+------------------------+----------------------+\n",
    "| GPU  Name                 Persistence-M | Bus-Id          Disp.A | Volatile Uncorr. ECC |\n",
    "| Fan  Temp   Perf          Pwr:Usage/Cap |           Memory-Usage | GPU-Util  Compute M. |\n",
    "|                                         |                        |               MIG M. |\n",
    "|=========================================+========================+======================|\n",
    "|   0  NVIDIA GeForce RTX 2080 Ti     On  |   00000000:B1:00.0 Off |                  N/A |\n",
    "| 26%   43C    P2             81W /  250W |    1944MiB /  11264MiB |     55%      Default |\n",
    "|                                         |                        |                  N/A |\n",
    "+-----------------------------------------+------------------------+----------------------+\n",
    "|   1  NVIDIA GeForce RTX 2080 Ti     On  |   00000000:DB:00.0 Off |                  N/A |\n",
    "| 30%   46C    P2             76W /  250W |    3982MiB /  11264MiB |     97%      Default |\n",
    "|                                         |                        |                  N/A |\n",
    "+-----------------------------------------+------------------------+----------------------+\n",
    "                                                                                         \n",
    "+-----------------------------------------------------------------------------------------+\n",
    "| Processes:                                                                              |\n",
    "|  GPU   GI   CI        PID   Type   Process name                              GPU Memory |\n",
    "|        ID   ID                                                               Usage      |\n",
    "|=========================================================================================|\n",
    "|    0   N/A  N/A   1442066      C   ...s/summer-school-hpc-2025/bin/python        254MiB |\n",
    "|    0   N/A  N/A   1445319      C   ...s/summer-school-hpc-2025/bin/python       1686MiB |\n",
    "|    1   N/A  N/A   1445322      C   ...s/summer-school-hpc-2025/bin/python       3978MiB |\n",
    "+-----------------------------------------------------------------------------------------+\n",
    "```"
   ]
  },
  {
   "cell_type": "code",
   "execution_count": 26,
   "id": "fbdc4625-320b-4a11-a107-1cf5dc609178",
   "metadata": {},
   "outputs": [
    {
     "name": "stdout",
     "output_type": "stream",
     "text": [
      "CPU times: user 279 ms, sys: 41.7 ms, total: 321 ms\n",
      "Wall time: 6.01 s\n",
      "10000060411.745394\n"
     ]
    }
   ],
   "source": [
    "# Create a Dask array backed by CuPy arrays instead of NumPy\n",
    "with dask.config.set({\"array.backend\": \"cupy\"}):\n",
    "    x_gpu = da.random.random((100000, 100000), chunks=(10000, 10000))\n",
    "    y_gpu = (x_gpu + x_gpu.T).sum()\n",
    "    %time result_gpu = y_gpu.compute()\n",
    "    print(result_gpu)"
   ]
  },
  {
   "cell_type": "markdown",
   "id": "bdb5c3ef-f81d-4702-a12e-c4831b12e505",
   "metadata": {},
   "source": [
    "Close the cluster and client."
   ]
  },
  {
   "cell_type": "code",
   "execution_count": 27,
   "id": "1e345b2c-7a3b-42ac-8706-f0039ffd35d0",
   "metadata": {},
   "outputs": [],
   "source": [
    "client.close()\n",
    "cluster.close()"
   ]
  },
  {
   "cell_type": "markdown",
   "id": "5f09ed87-1d9c-4b11-b00f-a5f9517ae0eb",
   "metadata": {},
   "source": [
    "We can also launch a GPU-enabled `SLURMCluster` by explicitly requesting GPU resources.  \n",
    "In the example below, we use the standard `dask-worker` (as shown earlier in this notebook), assigning **one GPU per worker**."
   ]
  },
  {
   "cell_type": "code",
   "execution_count": 36,
   "id": "fe66a270-f92f-4acd-9d6e-63cc3fe018e8",
   "metadata": {},
   "outputs": [
    {
     "name": "stdout",
     "output_type": "stream",
     "text": [
      "#!/usr/bin/env bash\n",
      "\n",
      "#SBATCH -J dask-worker\n",
      "#SBATCH -p gpu-short\n",
      "#SBATCH -n 1\n",
      "#SBATCH --cpus-per-task=4\n",
      "#SBATCH --mem=10G\n",
      "#SBATCH -t 00:30:00\n",
      "#SBATCH --reservation=psicourse01\n",
      "#SBATCH --cluster=gmerlin6\n",
      "\n",
      "/opt/psi/Programming/anaconda/2024.08/conda/envs/summer-school-hpc-2025/bin/python -m distributed.cli.dask_worker tcp://129.129.185.194:38563 --name dummy-name --nthreads 4 --memory-limit 9.31GiB --nanny --death-timeout 60\n",
      "\n"
     ]
    }
   ],
   "source": [
    "# Configure cluster parameters:\n",
    "cluster = SLURMCluster(\n",
    "    queue='gpu-short',        # your Slurm partition/queue name\n",
    "    cores=4,               # total cores per job (across all processes in a job)\n",
    "    processes=1,           # how many processes per job (if 1, then 4 threads in one process in this example)\n",
    "    memory=\"10GB\",         # memory per job\n",
    "    walltime=\"00:30:00\",   # time per job\n",
    "    scheduler_options={'dashboard_address': f':100{user_port}'},\n",
    "    job_extra_directives=[\"--reservation=psicourse01\", \"--cluster=gmerlin6\"],\n",
    "\n",
    "    #interface=\"ib0\",\n",
    ")\n",
    "print(cluster.job_script()) "
   ]
  },
  {
   "cell_type": "code",
   "execution_count": 40,
   "id": "48e457c7-9b4d-474f-8d61-35873ec89a16",
   "metadata": {},
   "outputs": [],
   "source": [
    "cluster.scale(2)"
   ]
  },
  {
   "cell_type": "markdown",
   "id": "5d913862-a36b-4418-a4e0-684a9c38d91e",
   "metadata": {},
   "source": [
    "Let's try the GPU enabled SlurmCluster:"
   ]
  },
  {
   "cell_type": "code",
   "execution_count": 41,
   "id": "74cbb510-a75b-428e-ade3-59c0e832a762",
   "metadata": {},
   "outputs": [
    {
     "name": "stdout",
     "output_type": "stream",
     "text": [
      "CPU times: user 1.45 s, sys: 14.2 ms, total: 1.47 s\n",
      "Wall time: 1.46 s\n",
      "10000046768.03562\n"
     ]
    }
   ],
   "source": [
    "with dask.config.set({\"array.backend\": \"cupy\"}):\n",
    "    x_gpu = da.random.random((100000, 100000), chunks=(10000, 10000))\n",
    "    y_gpu = (x_gpu + x_gpu.T).sum()\n",
    "    %time result_gpu = y_gpu.compute()\n",
    "    print(result_gpu)"
   ]
  },
  {
   "cell_type": "code",
   "execution_count": 42,
   "id": "3e0cab35-b4b0-4aa9-9650-a34e5900c13b",
   "metadata": {},
   "outputs": [],
   "source": [
    "client.close()\n",
    "cluster.close()"
   ]
  },
  {
   "cell_type": "markdown",
   "id": "6856e313-8bbd-406e-9451-3d6ec1a4c5c8",
   "metadata": {},
   "source": [
    "**Note:** Interactive sessions can reserve a large amount of GPU resources for long periods of time.  \n",
    "For production workloads, it is recommended to package your code into an **SBATCH script** and submit it as a self-contained Dask application.  \n",
    "This way, the job only consumes resources while it is actively running, making cluster usage more efficient.\n"
   ]
  },
  {
   "cell_type": "markdown",
   "id": "13c977f6-5c3d-4453-9410-29d6826232cc",
   "metadata": {},
   "source": [
    "### HPC special configs\n",
    "\n",
    "Dask‑CUDA workers seamlessly integrate with high‑speed interconnects such as InfiniBand, NVLink, and UCX.\n",
    "You can enable this in Python via LocalCUDACluster, for example:\n",
    "\n",
    "```python\n",
    "from dask_cuda import LocalCUDACluster\n",
    "from dask_cuda.initialize import initialize\n",
    "\n",
    "# Configure GPU networking\n",
    "initialize(\n",
    "    create_cuda_context=True,\n",
    "    enable_tcp_over_ucx=True,\n",
    "    enable_infiniband=False,\n",
    "    enable_nvlink=True\n",
    ")\n",
    "\n",
    "cluster = LocalCUDACluster(\n",
    "    protocol=\"ucx\",\n",
    "    interface=\"ib0\",          # eg. infiniband interface\n",
    "    rmm_pool_size=\"25GB\",     # GPU memory pool size\n",
    "    enable_tcp_over_ucx=True,\n",
    "    enable_infiniband=False,\n",
    "    enable_nvlink=True,\n",
    ")\n",
    "\n",
    "client = Client(cluster)\n",
    "```\n",
    "\n",
    "Dask‑CUDA workers support preallocating GPU memory pools using the RAPIDS Memory Manager (RMM), which helps reduce memory allocation overhead and fragmentation. This can be configured with parameters like `rmm_pool_size`, as shown above.\n",
    "\n",
    "**To achieve maximum performance, it is important to understand the underlying hardware architecture and configure it appropriately.  \n",
    "Only with the right configuration can Dask’s optimization techniques fully leverage the hardware and deliver peak efficiency.**"
   ]
  },
  {
   "cell_type": "code",
   "execution_count": null,
   "id": "f19eef23-8bbb-4156-b3df-08f7048b6e27",
   "metadata": {},
   "outputs": [],
   "source": []
  }
 ],
 "metadata": {
  "kernelspec": {
   "display_name": "Python [conda env:summer-school-hpc-2025]",
   "language": "python",
   "name": "conda-env-summer-school-hpc-2025-py"
  },
  "language_info": {
   "codemirror_mode": {
    "name": "ipython",
    "version": 3
   },
   "file_extension": ".py",
   "mimetype": "text/x-python",
   "name": "python",
   "nbconvert_exporter": "python",
   "pygments_lexer": "ipython3",
   "version": "3.12.11"
  }
 },
 "nbformat": 4,
 "nbformat_minor": 5
}
