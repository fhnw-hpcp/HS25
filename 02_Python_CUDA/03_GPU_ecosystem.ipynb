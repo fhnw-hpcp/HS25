{
 "cells": [
  {
   "cell_type": "markdown",
   "id": "0c113d32",
   "metadata": {},
   "source": []
  },
  {
   "cell_type": "markdown",
   "id": "5c600f8b",
   "metadata": {},
   "source": [
    "todo: some FFT and other libs"
   ]
  },
  {
   "cell_type": "markdown",
   "id": "bca68459",
   "metadata": {},
   "source": []
  }
 ],
 "metadata": {
  "language_info": {
   "name": "python"
  }
 },
 "nbformat": 4,
 "nbformat_minor": 5
}
