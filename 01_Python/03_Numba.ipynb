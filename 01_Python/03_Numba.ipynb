{
 "cells": [
  {
   "cell_type": "markdown",
   "metadata": {},
   "source": [
    "![Numba Slide](img/03_Numba/Folie1.PNG)"
   ]
  },
  {
   "cell_type": "markdown",
   "metadata": {},
   "source": [
    "![Numba Slide](img/03_Numba/Folie2.PNG)"
   ]
  },
  {
   "cell_type": "code",
   "execution_count": 1,
   "metadata": {},
   "outputs": [
    {
     "name": "stdout",
     "output_type": "stream",
     "text": [
      "Numba version: 0.61.2\n",
      "NumPy version: 2.2.6\n"
     ]
    }
   ],
   "source": [
    "import numba\n",
    "import numpy as np\n",
    "import time\n",
    "from numba import jit, njit, vectorize, prange\n",
    "import math\n",
    "\n",
    "print(f\"Numba version: {numba.__version__}\")\n",
    "print(f\"NumPy version: {np.__version__}\")"
   ]
  },
  {
   "cell_type": "markdown",
   "metadata": {},
   "source": [
    "## 1.1 Your First Numba Function\n",
    "\n",
    "The `@jit` decorator compiles Python functions to machine code. Let's see the speedup:"
   ]
  },
  {
   "cell_type": "code",
   "execution_count": 2,
   "metadata": {},
   "outputs": [
    {
     "name": "stdout",
     "output_type": "stream",
     "text": [
      "Performance comparison:\n",
      "\n",
      "Pure Python:\n",
      "186 ms ± 4.92 ms per loop (mean ± std. dev. of 7 runs, 1 loop each)\n",
      "\n",
      "Numba JIT:\n",
      "1.04 ms ± 24.1 μs per loop (mean ± std. dev. of 7 runs, 1,000 loops each)\n",
      "\n",
      "NumPy (for reference):\n",
      "1.16 ms ± 27.4 μs per loop (mean ± std. dev. of 7 runs, 1,000 loops each)\n",
      "\n",
      "Results match: True\n"
     ]
    }
   ],
   "source": [
    "# Pure Python version\n",
    "def python_sum_squares(arr):\n",
    "    total = 0.0\n",
    "    for i in range(len(arr)):\n",
    "        total += arr[i] ** 2\n",
    "    return total\n",
    "\n",
    "# Numba JIT version - identical code, just add decorator\n",
    "@jit\n",
    "def numba_sum_squares(arr):\n",
    "    total = 0.0\n",
    "    for i in range(len(arr)):\n",
    "        total += arr[i] ** 2\n",
    "    return total\n",
    "\n",
    "# Create test data\n",
    "data = np.random.rand(1_000_000)\n",
    "\n",
    "# Warm up Numba (compilation happens here)\n",
    "_ = numba_sum_squares(data)\n",
    "\n",
    "print(\"Performance comparison:\")\n",
    "print(\"\\nPure Python:\")\n",
    "%timeit python_sum_squares(data)\n",
    "\n",
    "print(\"\\nNumba JIT:\")\n",
    "%timeit numba_sum_squares(data)\n",
    "\n",
    "print(\"\\nNumPy (for reference):\")\n",
    "%timeit np.sum(data**2)\n",
    "\n",
    "# Verify results are the same\n",
    "py_result = python_sum_squares(data[:1000])\n",
    "numba_result = numba_sum_squares(data[:1000])\n",
    "numpy_result = np.sum(data[:1000]**2)\n",
    "\n",
    "print(f\"\\nResults match: {np.allclose([py_result, numba_result, numpy_result], numpy_result)}\")"
   ]
  },
  {
   "cell_type": "markdown",
   "metadata": {},
   "source": [
    "![Numba Slide](img/03_Numba/Folie3.PNG)"
   ]
  },
  {
   "cell_type": "code",
   "execution_count": 3,
   "metadata": {},
   "outputs": [
    {
     "name": "stdout",
     "output_type": "stream",
     "text": [
      "True\n",
      "\n",
      "Sort time pure:\n",
      "154 ms ± 3.21 ms per loop (mean ± std. dev. of 7 runs, 10 loops each)\n",
      "\n",
      "Sort time JIT:\n",
      "657 μs ± 4 μs per loop (mean ± std. dev. of 7 runs, 1,000 loops each)\n",
      "\n",
      "Sort time NJIT:\n",
      "650 μs ± 2.38 μs per loop (mean ± std. dev. of 7 runs, 1,000 loops each)\n",
      "\n",
      "Copy overhead (negligible):\n",
      "401 ns ± 5.45 ns per loop (mean ± std. dev. of 7 runs, 1,000,000 loops each)\n"
     ]
    }
   ],
   "source": [
    "def bubblesort(X):\n",
    "    N = len(X)\n",
    "    for end in range(N, 1, -1):\n",
    "        for i in range(end - 1):\n",
    "            cur = X[i]\n",
    "            if cur > X[i + 1]:\n",
    "                tmp = X[i]\n",
    "                X[i] = X[i + 1]\n",
    "                X[i + 1] = tmp\n",
    "\n",
    "# same function as above, just add @jit decorator\n",
    "@jit\n",
    "def bubblesort_jit(X):\n",
    "    N = len(X)\n",
    "    for end in range(N, 1, -1):\n",
    "        for i in range(end - 1):\n",
    "            cur = X[i]\n",
    "            if cur > X[i + 1]:\n",
    "                tmp = X[i]\n",
    "                X[i] = X[i + 1]\n",
    "                X[i + 1] = tmp\n",
    "\n",
    "# same function as above, just add @njit decorator (nopython-mode)\n",
    "@njit\n",
    "def bubblesort_njit(X):\n",
    "    N = len(X)\n",
    "    for end in range(N, 1, -1):\n",
    "        for i in range(end - 1):\n",
    "            cur = X[i]\n",
    "            if cur > X[i + 1]:\n",
    "                tmp = X[i]\n",
    "                X[i] = X[i + 1]\n",
    "                X[i + 1] = tmp\n",
    "\n",
    "\n",
    "original = np.arange(0.0, 10.0, 0.01, dtype='f4')\n",
    "shuffled = original.copy()\n",
    "np.random.shuffle(shuffled)\n",
    "\n",
    "# same as srt = shuffled.copy()\n",
    "srt = shuffled.copy()\n",
    "bubblesort(srt)\n",
    "print(np.array_equal(srt, original))\n",
    "\n",
    "# warmup - pre-compile the functions before time measurement\n",
    "_ = bubblesort_jit(srt)\n",
    "_ = bubblesort_njit(srt)\n",
    "\n",
    "# for each iteration, we copy the shuffled array to the srt-array so that we have the same input always\n",
    "# the actually timed function is bubblesort(srt)\n",
    "srt[:] = shuffled[:]\n",
    "print(\"\\nSort time pure:\")\n",
    "%timeit srt[:] = shuffled[:]; bubblesort(srt)\n",
    "\n",
    "print(\"\\nSort time JIT:\")\n",
    "%timeit srt[:] = shuffled[:]; bubblesort_jit(srt)\n",
    "\n",
    "print(\"\\nSort time NJIT:\")\n",
    "%timeit srt[:] = shuffled[:]; bubblesort_njit(srt)\n",
    "\n",
    "# just check how big the copy overhead is:\n",
    "print(\"\\nCopy overhead (negligible):\")\n",
    "%timeit srt[:] = shuffled[:]"
   ]
  },
  {
   "cell_type": "markdown",
   "metadata": {},
   "source": [
    "## 1.2 Numba Type System\n",
    "\n",
    "Numba infers types automatically but you can specify them for better performance:"
   ]
  },
  {
   "cell_type": "code",
   "execution_count": 4,
   "metadata": {},
   "outputs": [
    {
     "name": "stdout",
     "output_type": "stream",
     "text": [
      "Auto-typed result: 18.369\n",
      "Explicit-typed result: 18.369\n",
      "Results match: True\n",
      "\n",
      "Auto-typed signatures: [(float64, float64)]\n",
      "Explicit-typed signatures: [(float64, float64)]\n"
     ]
    }
   ],
   "source": [
    "from numba import float64, int64\n",
    "\n",
    "# Automatic type inference (recommended)\n",
    "@njit\n",
    "def auto_typed_function(x, y):\n",
    "    return x * y + x**2\n",
    "\n",
    "# Explicit type specification\n",
    "@njit(float64(float64, float64))  # return_type(arg1_type, arg2_type)\n",
    "def explicit_typed_function(x, y):\n",
    "    return x * y + x**2\n",
    "\n",
    "# Test both\n",
    "result1 = auto_typed_function(3.14, 2.71)\n",
    "result2 = explicit_typed_function(3.14, 2.71)\n",
    "\n",
    "print(f\"Auto-typed result: {result1}\")\n",
    "print(f\"Explicit-typed result: {result2}\")\n",
    "print(f\"Results match: {np.isclose(result1, result2)}\")\n",
    "\n",
    "# Show function signatures (after compilation)\n",
    "print(f\"\\nAuto-typed signatures: {auto_typed_function.signatures}\")\n",
    "print(f\"Explicit-typed signatures: {explicit_typed_function.signatures}\")"
   ]
  },
  {
   "cell_type": "markdown",
   "metadata": {},
   "source": [
    "### Exercise 1: Counting Primes\n",
    "\n",
    "Implement a method that counts primes and test how it compares to the njit-optimized version:"
   ]
  },
  {
   "cell_type": "code",
   "execution_count": 5,
   "metadata": {},
   "outputs": [
    {
     "name": "stdout",
     "output_type": "stream",
     "text": [
      "Python primes: Found 348513 primes in 32.589 s\n",
      "Numba primes:  Found 348513 primes in 1.876 s\n"
     ]
    }
   ],
   "source": [
    "# Exercise 1: Implement Prime Counting\n",
    "\n",
    "# Pure Python version\n",
    "def count_primes_py(n):\n",
    "    count = 0\n",
    "    for num in range(2, n):\n",
    "        prime = True\n",
    "        for factor in range(2, int(num**0.5) + 1):\n",
    "            if num % factor == 0:\n",
    "                prime = False\n",
    "                break\n",
    "        if prime:\n",
    "            count += 1\n",
    "    return count\n",
    "\n",
    "# Numba-accelerated version\n",
    "@njit\n",
    "def count_primes_numba(n):\n",
    "    count = 0\n",
    "    for num in range(2, n):\n",
    "        prime = True\n",
    "        for factor in range(2, int(num**0.5) + 1):\n",
    "            if num % factor == 0:\n",
    "                prime = False\n",
    "                break\n",
    "        if prime:\n",
    "            count += 1\n",
    "    return count\n",
    "\n",
    "N = 5_000_000  # Large enough to see speedup, should take ~15s (py)\n",
    "\n",
    "# Warm up Numba\n",
    "count_primes_numba(100)\n",
    "\n",
    "# Benchmark\n",
    "start = time.time()\n",
    "print(f\"Python primes: Found {count_primes_py(N)} primes in {time.time() - start:.3f} s\")\n",
    "\n",
    "start = time.time()\n",
    "print(f\"Numba primes:  Found {count_primes_numba(N)} primes in {time.time() - start:.3f} s\")"
   ]
  },
  {
   "cell_type": "markdown",
   "metadata": {},
   "source": [
    "## 2.1 Parallel Computing with Numba\n",
    "\n",
    "Numba can automatically parallelize loops using `prange()` (parallel range):"
   ]
  },
  {
   "cell_type": "code",
   "execution_count": 6,
   "metadata": {},
   "outputs": [
    {
     "name": "stdout",
     "output_type": "stream",
     "text": [
      "Parallel vs Serial comparison:\n",
      "Serial version:\n",
      "19.7 ms ± 327 μs per loop (mean ± std. dev. of 7 runs, 100 loops each)\n",
      "Parallel version:\n",
      "6.82 ms ± 87.3 μs per loop (mean ± std. dev. of 7 runs, 100 loops each)\n",
      "\n",
      "Results match: True\n",
      "Using 12 threads\n"
     ]
    }
   ],
   "source": [
    "# Serial version\n",
    "@njit\n",
    "def serial_computation(arr):\n",
    "    result = np.empty_like(arr)\n",
    "    for i in range(len(arr)):\n",
    "        # Expensive computation per element\n",
    "        x = arr[i]\n",
    "        result[i] = math.sin(x) * math.cos(x**2) + math.exp(-x**2)\n",
    "    return result\n",
    "\n",
    "# Parallel version - just change `range` to `prange`\n",
    "@njit(parallel=True)\n",
    "def parallel_computation(arr):\n",
    "    result = np.empty_like(arr)\n",
    "    for i in prange(len(arr)):  # prange instead of range\n",
    "        # Same expensive computation\n",
    "        x = arr[i]\n",
    "        result[i] = math.sin(x) * math.cos(x**2) + math.exp(-x**2)\n",
    "    return result\n",
    "\n",
    "# Test data\n",
    "large_array = np.random.rand(1_000_000)\n",
    "\n",
    "# Warm up\n",
    "_ = serial_computation(large_array)\n",
    "_ = parallel_computation(large_array)\n",
    "\n",
    "print(\"Parallel vs Serial comparison:\")\n",
    "print(\"Serial version:\")\n",
    "%timeit serial_computation(large_array)\n",
    "\n",
    "print(\"Parallel version:\")\n",
    "%timeit parallel_computation(large_array)\n",
    "\n",
    "# Verify results match\n",
    "serial_result = serial_computation(large_array[:1000])\n",
    "parallel_result = parallel_computation(large_array[:1000])\n",
    "print(f\"\\nResults match: {np.allclose(serial_result, parallel_result)}\")\n",
    "\n",
    "# Show number of threads\n",
    "from numba import config\n",
    "print(f\"Using {config.NUMBA_NUM_THREADS} threads\")"
   ]
  },
  {
   "cell_type": "markdown",
   "metadata": {},
   "source": [
    "### Parallel Reductions\n",
    "\n",
    "Numba can also parallelize reduction operations:"
   ]
  },
  {
   "cell_type": "code",
   "execution_count": 7,
   "metadata": {},
   "outputs": [
    {
     "name": "stdout",
     "output_type": "stream",
     "text": [
      "Parallel reductions:\n",
      "Sum of squares:\n",
      "1.8 ms ± 34.4 μs per loop (mean ± std. dev. of 7 runs, 1,000 loops each)\n",
      "8.04 ms ± 47.7 μs per loop (mean ± std. dev. of 7 runs, 100 loops each)\n",
      "\n",
      "Dot product:\n",
      "3.35 ms ± 77.5 μs per loop (mean ± std. dev. of 7 runs, 100 loops each)\n",
      "4.69 ms ± 467 μs per loop (mean ± std. dev. of 7 runs, 100 loops each)\n",
      "\n",
      "Sum squares match: True\n",
      "Dot product match: True\n"
     ]
    }
   ],
   "source": [
    "# Parallel reduction example\n",
    "@njit(parallel=True)\n",
    "def parallel_sum_squares(arr):\n",
    "    total = 0.0\n",
    "    for i in prange(len(arr)):\n",
    "        total += arr[i]**2  # Numba handles the reduction automatically\n",
    "    return total\n",
    "\n",
    "@njit(parallel=True)\n",
    "def parallel_dot_product(a, b):\n",
    "    result = 0.0\n",
    "    for i in prange(len(a)):\n",
    "        result += a[i] * b[i]\n",
    "    return result\n",
    "\n",
    "# Test parallel reductions\n",
    "a = np.random.rand(5_000_000)\n",
    "b = np.random.rand(5_000_000)\n",
    "\n",
    "# Warm up\n",
    "_ = parallel_sum_squares(a)\n",
    "_ = parallel_dot_product(a, b)\n",
    "\n",
    "print(\"Parallel reductions:\")\n",
    "print(\"Sum of squares:\")\n",
    "%timeit parallel_sum_squares(a)\n",
    "%timeit np.sum(a**2)  # NumPy comparison\n",
    "\n",
    "print(\"\\nDot product:\")\n",
    "%timeit parallel_dot_product(a, b)\n",
    "%timeit np.dot(a, b)  # NumPy comparison\n",
    "\n",
    "# Verify correctness\n",
    "print(f\"\\nSum squares match: {np.isclose(parallel_sum_squares(a), np.sum(a**2))}\")\n",
    "print(f\"Dot product match: {np.isclose(parallel_dot_product(a, b), np.dot(a, b))}\")"
   ]
  },
  {
   "cell_type": "markdown",
   "metadata": {},
   "source": [
    "## 2.2 Universal Functions (ufuncs)\n",
    "\n",
    "Create custom NumPy-style universal functions with `@vectorize`:"
   ]
  },
  {
   "cell_type": "code",
   "execution_count": 8,
   "metadata": {},
   "outputs": [
    {
     "name": "stdout",
     "output_type": "stream",
     "text": [
      "Custom ufunc performance:\n",
      "Custom hypot:\n",
      "981 μs ± 6.76 μs per loop (mean ± std. dev. of 7 runs, 1,000 loops each)\n",
      "NumPy hypot:\n",
      "16.3 ms ± 132 μs per loop (mean ± std. dev. of 7 runs, 100 loops each)\n",
      "\n",
      "Custom sigmoid:\n",
      "1.26 ms ± 6.98 μs per loop (mean ± std. dev. of 7 runs, 1,000 loops each)\n",
      "Manual sigmoid:\n",
      "9.54 ms ± 128 μs per loop (mean ± std. dev. of 7 runs, 100 loops each)\n",
      "\n",
      "Hypot results match: True\n",
      "Sigmoid vs manual: True\n"
     ]
    }
   ],
   "source": [
    "# Create a custom ufunc\n",
    "@vectorize(['float64(float64, float64)'], target='parallel')\n",
    "def custom_hypot(x, y):\n",
    "    \"\"\"Custom hypotenuse function: sqrt(x² + y²)\"\"\"\n",
    "    return math.sqrt(x*x + y*y)\n",
    "\n",
    "@vectorize(['float64(float64)'], target='parallel')\n",
    "def sigmoid(x):\n",
    "    \"\"\"Sigmoid activation function\"\"\"\n",
    "    return 1.0 / (1.0 + math.exp(-x))\n",
    "\n",
    "# Test ufuncs\n",
    "x = np.random.rand(1_000_000) * 10\n",
    "y = np.random.rand(1_000_000) * 10\n",
    "\n",
    "print(\"Custom ufunc performance:\")\n",
    "print(\"Custom hypot:\")\n",
    "%timeit custom_hypot(x, y)\n",
    "\n",
    "print(\"NumPy hypot:\")\n",
    "%timeit np.hypot(x, y)\n",
    "\n",
    "print(\"\\nCustom sigmoid:\")\n",
    "%timeit sigmoid(x)\n",
    "\n",
    "print(\"Manual sigmoid:\")\n",
    "%timeit 1.0 / (1.0 + np.exp(-x))\n",
    "\n",
    "# Verify results\n",
    "print(f\"\\nHypot results match: {np.allclose(custom_hypot(x[:100], y[:100]), np.hypot(x[:100], y[:100]))}\")\n",
    "print(f\"Sigmoid vs manual: {np.allclose(sigmoid(x[:100]), 1.0 / (1.0 + np.exp(-x[:100])))}\")"
   ]
  },
  {
   "cell_type": "markdown",
   "metadata": {},
   "source": [
    "### Exercise 2: Custom Distance Metrics\n",
    "\n",
    "Create vectorized distance functions:"
   ]
  },
  {
   "cell_type": "code",
   "execution_count": 9,
   "metadata": {},
   "outputs": [
    {
     "name": "stdout",
     "output_type": "stream",
     "text": [
      "Distance computation performance:\n",
      "1.77 ms ± 124 μs per loop (mean ± std. dev. of 7 runs, 1,000 loops each)\n",
      "1.66 ms ± 8.26 μs per loop (mean ± std. dev. of 7 runs, 1,000 loops each)\n",
      "\n",
      "NumPy comparison:\n",
      "7.07 ms ± 38.1 μs per loop (mean ± std. dev. of 7 runs, 100 loops each)\n",
      "6.17 ms ± 74.6 μs per loop (mean ± std. dev. of 7 runs, 100 loops each)\n"
     ]
    }
   ],
   "source": [
    "# Exercise 2: Implement custom distance metrics\n",
    "@vectorize(['float64(float64, float64, float64, float64)'], target='parallel')\n",
    "def manhattan_distance(x1, y1, x2, y2):\n",
    "    # TODO: Implement Manhattan distance |x1-x2| + |y1-y2|\n",
    "    return 0\n",
    "\n",
    "@vectorize(['float64(float64, float64, float64, float64)'], target='parallel')\n",
    "def euclidean_distance(x1, y1, x2, y2):\n",
    "    # TODO: Implement Euclidean distance sqrt((x1-x2)² + (y1-y2)²)\n",
    "    return 0\n",
    "\n",
    "# Solution:\n",
    "@vectorize(['float64(float64, float64, float64, float64)'], target='parallel')\n",
    "def manhattan_distance_solution(x1, y1, x2, y2):\n",
    "    return abs(x1 - x2) + abs(y1 - y2)\n",
    "\n",
    "@vectorize(['float64(float64, float64, float64, float64)'], target='parallel')\n",
    "def euclidean_distance_solution(x1, y1, x2, y2):\n",
    "    dx = x1 - x2\n",
    "    dy = y1 - y2\n",
    "    return math.sqrt(dx*dx + dy*dy)\n",
    "\n",
    "# Test with random points\n",
    "n_points = 1_000_000\n",
    "x1 = np.random.rand(n_points) * 100\n",
    "y1 = np.random.rand(n_points) * 100\n",
    "x2 = np.random.rand(n_points) * 100\n",
    "y2 = np.random.rand(n_points) * 100\n",
    "\n",
    "print(\"Distance computation performance:\")\n",
    "%timeit manhattan_distance_solution(x1, y1, x2, y2)\n",
    "%timeit euclidean_distance_solution(x1, y1, x2, y2)\n",
    "\n",
    "# Compare with manual NumPy implementation\n",
    "print(\"\\nNumPy comparison:\")\n",
    "%timeit np.abs(x1 - x2) + np.abs(y1 - y2)  # Manhattan\n",
    "%timeit np.sqrt((x1 - x2)**2 + (y1 - y2)**2)  # Euclidean"
   ]
  },
  {
   "cell_type": "markdown",
   "metadata": {},
   "source": [
    "## 3.1 Advanced Example: Monte Carlo Integration\n",
    "\n",
    "Let's implement Monte Carlo integration to estimate the area under curves:"
   ]
  },
  {
   "cell_type": "code",
   "execution_count": 10,
   "metadata": {},
   "outputs": [
    {
     "name": "stdout",
     "output_type": "stream",
     "text": [
      "Monte Carlo Integration Results:\n",
      "∫₀¹ x² dx: 0.333326 (analytical: 0.333333, error: 0.000008)\n",
      "∫₀² sin(x)e^(-x²) dx: 0.421054\n",
      "\n",
      "Performance comparison:\n",
      "Serial version:\n",
      "3.85 ms ± 16.8 μs per loop (mean ± std. dev. of 7 runs, 100 loops each)\n",
      "Parallel version:\n",
      "834 μs ± 18.4 μs per loop (mean ± std. dev. of 7 runs, 1,000 loops each)\n"
     ]
    }
   ],
   "source": [
    "@njit\n",
    "def monte_carlo_integrate(func, a, b, n_samples, seed=42):\n",
    "    \"\"\"\n",
    "    Monte Carlo integration of func from a to b\n",
    "    \n",
    "    Estimates: ∫[a to b] func(x) dx ≈ (b-a) * mean(func(random_points))\n",
    "    \"\"\"\n",
    "    np.random.seed(seed)\n",
    "    \n",
    "    # Generate random points in [a, b]\n",
    "    total = 0.0\n",
    "    for i in range(n_samples):\n",
    "        x = a + (b - a) * np.random.random()\n",
    "        total += func(x)\n",
    "    \n",
    "    # Estimate integral\n",
    "    return (b - a) * total / n_samples\n",
    "\n",
    "# Parallel version\n",
    "@njit(parallel=True)\n",
    "def monte_carlo_integrate_parallel(func, a, b, n_samples, seed=42):\n",
    "    \"\"\"Parallel Monte Carlo integration\"\"\"\n",
    "    np.random.seed(seed)\n",
    "    \n",
    "    total = 0.0\n",
    "    for i in prange(n_samples):\n",
    "        x = a + (b - a) * np.random.random()\n",
    "        total += func(x)\n",
    "    \n",
    "    return (b - a) * total / n_samples\n",
    "\n",
    "# Define test functions\n",
    "@njit\n",
    "def quadratic(x):\n",
    "    return x**2\n",
    "\n",
    "@njit\n",
    "def sin_exp(x):\n",
    "    return math.sin(x) * math.exp(-x**2)\n",
    "\n",
    "# Test integration\n",
    "n_samples = 10_000_000\n",
    "\n",
    "print(\"Monte Carlo Integration Results:\")\n",
    "\n",
    "# Test 1: ∫[0 to 1] x² dx = 1/3\n",
    "result1 = monte_carlo_integrate(quadratic, 0.0, 1.0, n_samples)\n",
    "analytical1 = 1.0/3.0\n",
    "print(f\"∫₀¹ x² dx: {result1:.6f} (analytical: {analytical1:.6f}, error: {abs(result1-analytical1):.6f})\")\n",
    "\n",
    "# Test 2: More complex function\n",
    "result2 = monte_carlo_integrate_parallel(sin_exp, 0.0, 2.0, n_samples)\n",
    "print(f\"∫₀² sin(x)e^(-x²) dx: {result2:.6f}\")\n",
    "\n",
    "# Performance comparison\n",
    "print(\"\\nPerformance comparison:\")\n",
    "print(\"Serial version:\")\n",
    "%timeit monte_carlo_integrate(quadratic, 0.0, 1.0, 1_000_000)\n",
    "\n",
    "print(\"Parallel version:\")\n",
    "%timeit monte_carlo_integrate_parallel(quadratic, 0.0, 1.0, 1_000_000)"
   ]
  },
  {
   "cell_type": "markdown",
   "metadata": {},
   "source": [
    "## 3.2 Memory Management and Optimization\n",
    "\n",
    "Numba can help identify performance bottlenecks and memory issues:"
   ]
  },
  {
   "cell_type": "code",
   "execution_count": 11,
   "metadata": {},
   "outputs": [
    {
     "name": "stdout",
     "output_type": "stream",
     "text": [
      "Memory allocation comparison:\n",
      "Inefficient (allocates in loop):\n",
      "4.9 ms ± 22.6 μs per loop (mean ± std. dev. of 7 runs, 100 loops each)\n",
      "Efficient (allocates once):\n",
      "4.93 ms ± 32.3 μs per loop (mean ± std. dev. of 7 runs, 100 loops each)\n",
      "\n",
      "Results in similar range: True\n"
     ]
    }
   ],
   "source": [
    "# Demonstrate memory allocation overhead\n",
    "@njit\n",
    "def inefficient_function(n):\n",
    "    \"\"\"Creates many temporary arrays (inefficient)\"\"\"\n",
    "    total = 0.0\n",
    "    for i in range(100):\n",
    "        temp_array = np.random.random(n)  # Memory allocation in loop!\n",
    "        total += np.sum(temp_array**2)\n",
    "    return total\n",
    "\n",
    "@njit\n",
    "def efficient_function(n):\n",
    "    \"\"\"Reuses memory (efficient)\"\"\"\n",
    "    temp_array = np.empty(n)  # Allocate once\n",
    "    total = 0.0\n",
    "    for i in range(100):\n",
    "        # Fill with random numbers (no allocation)\n",
    "        for j in range(n):\n",
    "            temp_array[j] = np.random.random()\n",
    "        total += np.sum(temp_array**2)\n",
    "    return total\n",
    "\n",
    "# Warm up\n",
    "n_size = 10000\n",
    "_ = inefficient_function(n_size)\n",
    "_ = efficient_function(n_size)\n",
    "\n",
    "print(\"Memory allocation comparison:\")\n",
    "print(\"Inefficient (allocates in loop):\")\n",
    "%timeit inefficient_function(n_size)\n",
    "\n",
    "print(\"Efficient (allocates once):\")\n",
    "%timeit efficient_function(n_size)\n",
    "\n",
    "# Verify results are similar (statistical variation expected)\n",
    "result1 = inefficient_function(1000)\n",
    "result2 = efficient_function(1000)\n",
    "print(f\"\\nResults in similar range: {abs(result1 - result2) / result1 < 0.1}\")"
   ]
  },
  {
   "cell_type": "markdown",
   "metadata": {},
   "source": [
    "## 3.3 Numba Limitations and Workarounds\n",
    "\n",
    "Numba doesn't support all Python features. Here are common limitations and solutions:"
   ]
  },
  {
   "cell_type": "code",
   "execution_count": 12,
   "metadata": {},
   "outputs": [
    {
     "name": "stdout",
     "output_type": "stream",
     "text": [
      "Array transformation: [1 2 3 4 5] -> [ 1  4  9 16 25]\n",
      "String length: 5\n",
      "Simulated dynamic list: [ 0.  1.  4.  9. 16. 25. 36. 49. 64. 81.]\n",
      "Fallback function result: [ 2  4  6  8 10]\n"
     ]
    }
   ],
   "source": [
    "# Example limitations and workarounds\n",
    "\n",
    "# 1. List comprehensions aren't supported in nopython mode\n",
    "# BAD:\n",
    "# @njit\n",
    "# def bad_function(arr):\n",
    "#     return [x**2 for x in arr]  # This would fail\n",
    "\n",
    "# GOOD:\n",
    "@njit\n",
    "def good_function(arr):\n",
    "    result = np.empty_like(arr)\n",
    "    for i in range(len(arr)):\n",
    "        result[i] = arr[i]**2\n",
    "    return result\n",
    "\n",
    "# 2. Strings have limited support\n",
    "@njit\n",
    "def string_limited():\n",
    "    # Some string operations work\n",
    "    s = \"hello\"\n",
    "    return len(s)  # This works\n",
    "    # return s.upper()  # This might not work\n",
    "\n",
    "# 3. Dynamic data structures (lists, dicts) have limitations\n",
    "# Use NumPy arrays instead when possible\n",
    "\n",
    "@njit\n",
    "def simulate_dynamic_list(n):\n",
    "    \"\"\"Simulate growing list with pre-allocated array\"\"\"\n",
    "    max_size = n * 2  # Over-allocate\n",
    "    data = np.empty(max_size)\n",
    "    size = 0\n",
    "    \n",
    "    for i in range(n):\n",
    "        if size < max_size:\n",
    "            data[size] = i**2\n",
    "            size += 1\n",
    "    \n",
    "    return data[:size]  # Return only used portion\n",
    "\n",
    "# Test workarounds\n",
    "test_arr = np.array([1, 2, 3, 4, 5])\n",
    "result = good_function(test_arr)\n",
    "print(f\"Array transformation: {test_arr} -> {result}\")\n",
    "\n",
    "str_len = string_limited()\n",
    "print(f\"String length: {str_len}\")\n",
    "\n",
    "dynamic_result = simulate_dynamic_list(10)\n",
    "print(f\"Simulated dynamic list: {dynamic_result}\")\n",
    "\n",
    "# 4. Object mode fallback for unsupported features\n",
    "@jit  # Not @njit - allows fallback\n",
    "def fallback_function(data):\n",
    "    # This part can be compiled\n",
    "    processed = np.empty_like(data)\n",
    "    for i in range(len(data)):\n",
    "        processed[i] = data[i] * 2\n",
    "    \n",
    "    # This part would fall back to Python if needed\n",
    "    # (but we'll keep it simple)\n",
    "    return processed\n",
    "\n",
    "fallback_result = fallback_function(test_arr)\n",
    "print(f\"Fallback function result: {fallback_result}\")"
   ]
  },
  {
   "cell_type": "markdown",
   "metadata": {},
   "source": [
    "## Summary: Numba Best Practices\n",
    "\n",
    "### ✅ Do:\n",
    "- Use `@njit` for maximum performance\n",
    "- Replace Python loops with NumPy operations when possible\n",
    "- Use `prange()` for embarrassingly parallel problems\n",
    "- Pre-allocate arrays outside loops\n",
    "- Profile before and after optimization\n",
    "- Use type annotations when debugging\n",
    "\n",
    "### ❌ Don't:\n",
    "- Use list comprehensions in nopython mode\n",
    "- Allocate memory inside tight loops\n",
    "- Mix object mode and nopython mode unnecessarily\n",
    "- Use complex Python features (classes, generators, etc.)\n",
    "- Forget compilation overhead for small functions"
   ]
  },
  {
   "cell_type": "code",
   "execution_count": 13,
   "metadata": {},
   "outputs": [
    {
     "name": "stdout",
     "output_type": "stream",
     "text": [
      "Numba Performance Showcase: Mandelbrot Set\n",
      "==================================================\n",
      "Computed 800×800 Mandelbrot set in 0.03 seconds\n",
      "Performance: 19.8 million pixels/second\n",
      "Iterations: 413.3 million iterations/second\n",
      "Peak value: 99.0\n"
     ]
    }
   ],
   "source": [
    "# Final performance showcase: Mandelbrot set computation\n",
    "@njit(parallel=True)\n",
    "def mandelbrot_set(height, width, max_iter=100):\n",
    "    \"\"\"Compute the Mandelbrot set\"\"\"\n",
    "    result = np.zeros((height, width))\n",
    "    \n",
    "    for i in prange(height):\n",
    "        for j in range(width):\n",
    "            # Map pixel coordinates to complex plane\n",
    "            c = complex(-2.0 + 3.0 * j / width, -1.5 + 3.0 * i / height)\n",
    "            z = 0.0 + 0.0j\n",
    "            \n",
    "            # Iterate until divergence or max_iter\n",
    "            for n in range(max_iter):\n",
    "                if abs(z) > 2.0:\n",
    "                    break\n",
    "                z = z*z + c\n",
    "            \n",
    "            result[i, j] = n\n",
    "    \n",
    "    return result\n",
    "\n",
    "print(\"Numba Performance Showcase: Mandelbrot Set\")\n",
    "print(\"=\" * 50)\n",
    "\n",
    "# Warm up\n",
    "_ = mandelbrot_set(100, 100, 50)\n",
    "\n",
    "# Compute a large Mandelbrot set\n",
    "size = 800\n",
    "iterations = 100\n",
    "\n",
    "start_time = time.time()\n",
    "mandelbrot = mandelbrot_set(size, size, iterations)\n",
    "end_time = time.time()\n",
    "\n",
    "total_pixels = size * size\n",
    "total_iterations = np.sum(mandelbrot)\n",
    "pixels_per_second = total_pixels / (end_time - start_time)\n",
    "iterations_per_second = total_iterations / (end_time - start_time)\n",
    "\n",
    "print(f\"Computed {size}×{size} Mandelbrot set in {end_time-start_time:.2f} seconds\")\n",
    "print(f\"Performance: {pixels_per_second/1e6:.1f} million pixels/second\")\n",
    "print(f\"Iterations: {iterations_per_second/1e6:.1f} million iterations/second\")\n",
    "print(f\"Peak value: {np.max(mandelbrot)}\")"
   ]
  },
  {
   "cell_type": "code",
   "execution_count": null,
   "metadata": {},
   "outputs": [],
   "source": []
  }
 ],
 "metadata": {
  "kernelspec": {
   "display_name": "Python 3 (ipykernel)",
   "language": "python",
   "name": "python3"
  },
  "language_info": {
   "codemirror_mode": {
    "name": "ipython",
    "version": 3
   },
   "file_extension": ".py",
   "mimetype": "text/x-python",
   "name": "python",
   "nbconvert_exporter": "python",
   "pygments_lexer": "ipython3",
   "version": "3.12.3"
  }
 },
 "nbformat": 4,
 "nbformat_minor": 4
}
