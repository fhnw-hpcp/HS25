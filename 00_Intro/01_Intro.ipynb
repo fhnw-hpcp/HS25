{
 "cells": [
  {
   "cell_type": "markdown",
   "id": "ea437811",
   "metadata": {},
   "source": [
    "![Intro Slide](img/Folie1.PNG)\n",
    "![Intro Slide](img/Folie2.PNG)\n",
    "![Intro Slide](img/Folie3.PNG)\n",
    "![Intro Slide](img/Folie4.PNG)\n",
    "![Intro Slide](img/Folie5.PNG)"
   ]
  },
  {
   "cell_type": "markdown",
   "id": "3d77fbb8",
   "metadata": {},
   "source": []
  }
 ],
 "metadata": {
  "kernelspec": {
   "display_name": "Python 3 (ipykernel)",
   "language": "python",
   "name": "python3"
  },
  "language_info": {
   "codemirror_mode": {
    "name": "ipython",
    "version": 3
   },
   "file_extension": ".py",
   "mimetype": "text/x-python",
   "name": "python",
   "nbconvert_exporter": "python",
   "pygments_lexer": "ipython3",
   "version": "3.12.1"
  }
 },
 "nbformat": 4,
 "nbformat_minor": 5
}
