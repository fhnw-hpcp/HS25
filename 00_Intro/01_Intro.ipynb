{
 "cells": [
  {
   "cell_type": "markdown",
   "id": "ea437811",
   "metadata": {},
   "source": [
    "![Intro Slide](img/Folie1.PNG)\n",
    "![Intro Slide](img/Folie2.PNG)\n",
    "![Intro Slide](img/Folie3.PNG)\n",
    "![Intro Slide](img/Folie4.PNG)\n",
    "![Intro Slide](img/Folie5.PNG)"
   ]
  },
  {
   "cell_type": "markdown",
   "id": "3d77fbb8",
   "metadata": {},
   "source": []
  }
 ],
 "metadata": {
  "language_info": {
   "name": "python"
  }
 },
 "nbformat": 4,
 "nbformat_minor": 5
}
